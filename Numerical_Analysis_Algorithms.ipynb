{
  "nbformat": 4,
  "nbformat_minor": 0,
  "metadata": {
    "colab": {
      "provenance": [],
      "toc_visible": true,
      "authorship_tag": "ABX9TyP7cCXWNn0LdOLkxaPu5clH",
      "include_colab_link": true
    },
    "kernelspec": {
      "name": "python3",
      "display_name": "Python 3"
    },
    "language_info": {
      "name": "python"
    }
  },
  "cells": [
    {
      "cell_type": "markdown",
      "metadata": {
        "id": "view-in-github",
        "colab_type": "text"
      },
      "source": [
        "<a href=\"https://colab.research.google.com/github/Tony6512/Numerical-Analysis-Algorithms/blob/main/Numerical_Analysis_Algorithms.ipynb\" target=\"_parent\"><img src=\"https://colab.research.google.com/assets/colab-badge.svg\" alt=\"Open In Colab\"/></a>"
      ]
    },
    {
      "cell_type": "markdown",
      "source": [
        "# Numerical Analysis Algorithms"
      ],
      "metadata": {
        "id": "hN3frKQiDuK2"
      }
    },
    {
      "cell_type": "markdown",
      "source": [
        "Various algorithms from numerical analysis text Numerical Analysis Mathematics of Scientific Computing by Kincaid and Cheney and Numerical Linear Algebra by Trefethen and Bau."
      ],
      "metadata": {
        "id": "qFu2bDAHEAh-"
      }
    },
    {
      "cell_type": "code",
      "source": [
        "import random\n",
        "import scipy\n",
        "import numpy as np\n",
        "import matplotlib.pyplot as plt\n",
        "import seaborn as sns\n",
        "import math\n",
        "from tqdm import tqdm\n",
        "import sklearn\n",
        "import sklearn.preprocessing"
      ],
      "metadata": {
        "id": "_5ufsZFzDx24"
      },
      "execution_count": null,
      "outputs": []
    },
    {
      "cell_type": "markdown",
      "source": [
        "## Solution to Nonlinear Equations"
      ],
      "metadata": {
        "id": "CxmrT9ZgFAOJ"
      }
    },
    {
      "cell_type": "markdown",
      "source": [
        "Here are algorithms for find the solution to a nonlienar equation via root finding."
      ],
      "metadata": {
        "id": "YgdncTRucr9A"
      }
    },
    {
      "cell_type": "code",
      "source": [
        "def bisectionMethod(f, a, b, M_iters = 100, delta = 10**(-7), epsilon = 10**(-7)):\n",
        "  left, right = a, b\n",
        "  if left >= right:\n",
        "    raise ValueError(f'{a} should be less than {b}.')\n",
        "  if sign(f(left)) == sign(f(right)):\n",
        "    raise ValueError(f'The function must have different sign at endpoints.')\n",
        "  for _ in range(M_iters):\n",
        "    mid = (left + right) / 2\n",
        "    u, v, w = f(left), f(right), f(mid)\n",
        "    if abs(w) < epsilon or abs(mid) < delta:\n",
        "      return mid\n",
        "    elif sign(u) == sign(w):\n",
        "      left = mid\n",
        "    else:\n",
        "      right = mid\n",
        "  raise Exception('Method Failed: Reach Max Iteration Value')\n",
        "\n",
        "\n",
        "def sign(a):\n",
        "  if a > 0:\n",
        "    return 1\n",
        "  elif a < 0:\n",
        "    return -1\n",
        "  return 0"
      ],
      "metadata": {
        "id": "4JuJfiJMG9__"
      },
      "execution_count": null,
      "outputs": []
    },
    {
      "cell_type": "code",
      "source": [
        "def function(x):\n",
        "  return math.exp(x) - math.sin(x)\n",
        "a, b = -4, -3\n",
        "bisectionMethod(function, a,b)"
      ],
      "metadata": {
        "colab": {
          "base_uri": "https://localhost:8080/"
        },
        "id": "U44RcxnyG-DH",
        "outputId": "c321d9b9-d1ed-46d0-adfa-67916cc15ef4"
      },
      "execution_count": null,
      "outputs": [
        {
          "output_type": "execute_result",
          "data": {
            "text/plain": [
              "-3.18306303024292"
            ]
          },
          "metadata": {},
          "execution_count": 3
        }
      ]
    },
    {
      "cell_type": "code",
      "source": [
        "scipy.optimize.bisect(function, a,b)"
      ],
      "metadata": {
        "colab": {
          "base_uri": "https://localhost:8080/"
        },
        "id": "h7-lDaUaaDcf",
        "outputId": "3adcd7cc-c4a1-4243-a963-970595550181"
      },
      "execution_count": null,
      "outputs": [
        {
          "output_type": "execute_result",
          "data": {
            "text/plain": [
              "-3.1830630119347916"
            ]
          },
          "metadata": {},
          "execution_count": 4
        }
      ]
    },
    {
      "cell_type": "code",
      "source": [
        "def NewtonsMethod(f, df, start, M_iters = 100, delta = 10**(-7), epsilon = 10**(-7)):\n",
        "  x_curr = start\n",
        "  u, v = f(x_curr), df(x_curr)\n",
        "  for _ in range(M_iters):\n",
        "    x_next = x_curr - u / v\n",
        "    u, v = f(x_next), df(x_next)\n",
        "    if abs(x_next - x_curr) < delta or abs(u) < epsilon:\n",
        "      return x_next\n",
        "    x_curr = x_next\n",
        "  raise Exception('Method Failed: Reach Max Iteration Value')"
      ],
      "metadata": {
        "id": "-sXemYSAG-Mj"
      },
      "execution_count": null,
      "outputs": []
    },
    {
      "cell_type": "code",
      "source": [
        "def function(x):\n",
        "  return math.exp(x) - math.sin(x)\n",
        "def derivative(x):\n",
        "  return math.exp(x) - math.cos(x)\n",
        "start = -4\n",
        "NewtonsMethod(f = function, df = derivative, start = start)"
      ],
      "metadata": {
        "colab": {
          "base_uri": "https://localhost:8080/"
        },
        "id": "sR0FOCZOVZ9K",
        "outputId": "6504ea6e-038d-4849-82d9-6b6a6bdcd69c"
      },
      "execution_count": null,
      "outputs": [
        {
          "output_type": "execute_result",
          "data": {
            "text/plain": [
              "-3.183063011933351"
            ]
          },
          "metadata": {},
          "execution_count": 6
        }
      ]
    },
    {
      "cell_type": "code",
      "source": [
        "scipy.optimize.newton(function, start, fprime = derivative)"
      ],
      "metadata": {
        "colab": {
          "base_uri": "https://localhost:8080/"
        },
        "id": "FBz-ZskRVaCK",
        "outputId": "00c2fd92-012d-4551-e294-9f70059c5ce7"
      },
      "execution_count": null,
      "outputs": [
        {
          "output_type": "execute_result",
          "data": {
            "text/plain": [
              "-3.1830630119333634"
            ]
          },
          "metadata": {},
          "execution_count": 7
        }
      ]
    },
    {
      "cell_type": "code",
      "source": [
        "def SecantMethod(f, x0, x1, M_iters = 100, delta = 10**(-7), epsilon = 10**(-7)):\n",
        "  x_past = x0\n",
        "  x_curr = x1\n",
        "  u = f(x_curr)\n",
        "  v = f(x_past)\n",
        "  for _ in range(M_iters):\n",
        "    x_next = x_curr - u * (x_curr - x_past) / (u - v)\n",
        "    u, v = f(x_next), f(x_curr)\n",
        "    if abs(x_next - x_curr) < delta or abs(u) < epsilon:\n",
        "      return x_next\n",
        "    x_past = x_curr\n",
        "    x_curr = x_next\n",
        "  raise Exception('Method Failed: Reach Max Iteration Value')"
      ],
      "metadata": {
        "id": "w8JdEJtUVaHD"
      },
      "execution_count": null,
      "outputs": []
    },
    {
      "cell_type": "code",
      "source": [
        "def function(x):\n",
        "  return math.exp(x) - math.sin(x)\n",
        "x0 = -4\n",
        "x1 = -3\n",
        "SecantMethod(f = function, x0 = x0, x1= x1)"
      ],
      "metadata": {
        "colab": {
          "base_uri": "https://localhost:8080/"
        },
        "id": "vWN6vSjcVaLu",
        "outputId": "551efc62-f01c-4572-8543-b4d8d97d7a5f"
      },
      "execution_count": null,
      "outputs": [
        {
          "output_type": "execute_result",
          "data": {
            "text/plain": [
              "-3.1830629517061877"
            ]
          },
          "metadata": {},
          "execution_count": 9
        }
      ]
    },
    {
      "cell_type": "code",
      "source": [
        "scipy.optimize.newton(function, x0,x1 =  x1)"
      ],
      "metadata": {
        "colab": {
          "base_uri": "https://localhost:8080/"
        },
        "id": "5V8iS_-DG-Rz",
        "outputId": "27b97778-5a56-4a34-c643-81bbd6356fd1"
      },
      "execution_count": null,
      "outputs": [
        {
          "output_type": "execute_result",
          "data": {
            "text/plain": [
              "-3.1830630119333634"
            ]
          },
          "metadata": {},
          "execution_count": 10
        }
      ]
    },
    {
      "cell_type": "code",
      "source": [
        "scipy.optimize.brentq(function, x0, x1)"
      ],
      "metadata": {
        "colab": {
          "base_uri": "https://localhost:8080/"
        },
        "id": "6bWki_z0chyY",
        "outputId": "fef2bd5f-7432-48ae-9ace-cbf9a94604bc"
      },
      "execution_count": null,
      "outputs": [
        {
          "output_type": "execute_result",
          "data": {
            "text/plain": [
              "-3.1830630119334606"
            ]
          },
          "metadata": {},
          "execution_count": 11
        }
      ]
    },
    {
      "cell_type": "code",
      "source": [
        "poly = np.polynomial.Polynomial.fromroots([-5,-1,3])\n",
        "print(poly)"
      ],
      "metadata": {
        "colab": {
          "base_uri": "https://localhost:8080/"
        },
        "id": "6dL4GkBfS5-t",
        "outputId": "3196d2d3-f0b8-452c-a3ac-bd38d3dc0cb3"
      },
      "execution_count": null,
      "outputs": [
        {
          "output_type": "stream",
          "name": "stdout",
          "text": [
            "-15.0 - 13.0·x + 3.0·x² + 1.0·x³\n"
          ]
        }
      ]
    },
    {
      "cell_type": "code",
      "source": [
        "scipy.optimize.brentq(poly, 2, 4)"
      ],
      "metadata": {
        "id": "ZnBgD-5gdyeT",
        "colab": {
          "base_uri": "https://localhost:8080/"
        },
        "outputId": "80c2399c-3384-487f-af9b-2e803325e250"
      },
      "execution_count": null,
      "outputs": [
        {
          "output_type": "execute_result",
          "data": {
            "text/plain": [
              "3.0"
            ]
          },
          "metadata": {},
          "execution_count": 13
        }
      ]
    },
    {
      "cell_type": "code",
      "source": [],
      "metadata": {
        "id": "CvcPJzkGxsY0"
      },
      "execution_count": null,
      "outputs": []
    },
    {
      "cell_type": "code",
      "source": [],
      "metadata": {
        "id": "Yu8mK5tGxsjg"
      },
      "execution_count": null,
      "outputs": []
    },
    {
      "cell_type": "code",
      "source": [],
      "metadata": {
        "id": "pW4_7f6aTeOR"
      },
      "execution_count": null,
      "outputs": []
    },
    {
      "cell_type": "markdown",
      "source": [
        "## Solving Systems of Linear Equations"
      ],
      "metadata": {
        "id": "UXi4EfF5FEw0"
      }
    },
    {
      "cell_type": "code",
      "source": [
        "def lu(A):\n",
        "    m, n = A.shape\n",
        "    if m != n:\n",
        "        raise ValueError( 'A is not a square matrix')\n",
        "    L = np.zeros_like(A)\n",
        "    U = np.zeros_like(A)\n",
        "    for k in range(m):\n",
        "        L[k,k] = 1.0\n",
        "        U[k,k] = A[k,k] - L[k,:k].dot(U[:k,k])\n",
        "        for r in range(k+1, m):\n",
        "            U[k,r] = A[k,r] - L[k,:k].dot(U[:k,r])\n",
        "            L[r,k] = (A[r,k] - L[r,:k].dot(U[:k,k])) / U[k,k]\n",
        "    return L, U"
      ],
      "metadata": {
        "id": "WLqYPn9dfmQq"
      },
      "execution_count": null,
      "outputs": []
    },
    {
      "cell_type": "code",
      "source": [
        "def lu(A):\n",
        "  ## LU factorization: Doolittle's Factorization\n",
        "  ## combine L and U into one matrix\n",
        "  m, n = A.shape\n",
        "  if m != n:\n",
        "    raise ValueError( 'A is not a square matrix')\n",
        "  LU = np.zeros_like(A)\n",
        "  # LU = np.zeros(A.shape)\n",
        "  for k in range(m):\n",
        "    LU[k,k] = A[k,k] - LU[k,:k].dot(LU[:k,k])\n",
        "    for r in range(k+1, m):\n",
        "      LU[k,r] = A[k,r] - LU[k,:k].dot(LU[:k,r]) ## upper\n",
        "      LU[r,k] = (A[r,k] - LU[r,:k].dot(LU[:k,k])) / LU[k,k] ## lower\n",
        "  return LU"
      ],
      "metadata": {
        "id": "icbCKzkpG_FF"
      },
      "execution_count": null,
      "outputs": []
    },
    {
      "cell_type": "code",
      "source": [
        "A = np.array([[2,1,0,3],[4,1,-1,5],[1,2,1,0],[2,2,4,3]], dtype=np.float64)\n",
        "\n",
        "lu(A)"
      ],
      "metadata": {
        "colab": {
          "base_uri": "https://localhost:8080/"
        },
        "id": "FQ2bY-TmG_IV",
        "outputId": "18217936-60b7-4ab7-e130-a00d2ac733ca"
      },
      "execution_count": null,
      "outputs": [
        {
          "output_type": "execute_result",
          "data": {
            "text/plain": [
              "array([[  2. ,   1. ,   0. ,   3. ],\n",
              "       [  2. ,  -1. ,  -1. ,  -1. ],\n",
              "       [  0.5,  -1.5,  -0.5,  -3. ],\n",
              "       [  1. ,  -1. ,  -6. , -19. ]])"
            ]
          },
          "metadata": {},
          "execution_count": 16
        }
      ]
    },
    {
      "cell_type": "code",
      "source": [
        "# scipy.linalg.lu(A)"
      ],
      "metadata": {
        "id": "8Lj2HSUKkfL7"
      },
      "execution_count": null,
      "outputs": []
    },
    {
      "cell_type": "code",
      "source": [
        "def lu_solve(LU, b):\n",
        "  m, n = LU.shape\n",
        "  if m != n:\n",
        "    raise ValueError( 'A is not a square matrix')\n",
        "  y = np.zeros((m, 1))\n",
        "  x = np.zeros_like(y)\n",
        "  for i in range(m):\n",
        "    y[i] = b[i] - LU[i,:i].dot(y[0:i])\n",
        "  for i in reversed(range(m)):\n",
        "    x[i] = (y[i] - LU[i,i+1:].dot(x[i+1:])) / LU[i,i]\n",
        "  return x"
      ],
      "metadata": {
        "id": "eeC5zVRAG_Lb"
      },
      "execution_count": null,
      "outputs": []
    },
    {
      "cell_type": "code",
      "source": [
        "A = np.array([[2,1,0,3],[4,1,-1,5],[1,2,1,0],[2,2,4,3]],dtype=np.float64)\n",
        "print(A)\n",
        "b = np.array([1,-1,2,4],dtype=np.float64)\n",
        "b.shape = (4, 1)\n",
        "print(b)\n",
        "LU = lu(A)\n",
        "print(LU)\n",
        "lu_solve(LU, b)"
      ],
      "metadata": {
        "colab": {
          "base_uri": "https://localhost:8080/"
        },
        "id": "rKKD8RkXG_Ok",
        "outputId": "7a49b774-51e3-4fd4-d233-def656d80df3"
      },
      "execution_count": null,
      "outputs": [
        {
          "output_type": "stream",
          "name": "stdout",
          "text": [
            "[[ 2.  1.  0.  3.]\n",
            " [ 4.  1. -1.  5.]\n",
            " [ 1.  2.  1.  0.]\n",
            " [ 2.  2.  4.  3.]]\n",
            "[[ 1.]\n",
            " [-1.]\n",
            " [ 2.]\n",
            " [ 4.]]\n",
            "[[  2.    1.    0.    3. ]\n",
            " [  2.   -1.   -1.   -1. ]\n",
            " [  0.5  -1.5  -0.5  -3. ]\n",
            " [  1.   -1.   -6.  -19. ]]\n"
          ]
        },
        {
          "output_type": "execute_result",
          "data": {
            "text/plain": [
              "array([[-1.78947368],\n",
              "       [ 1.73684211],\n",
              "       [ 0.31578947],\n",
              "       [ 0.94736842]])"
            ]
          },
          "metadata": {},
          "execution_count": 19
        }
      ]
    },
    {
      "cell_type": "code",
      "source": [
        "scipy.linalg.solve(A,b)"
      ],
      "metadata": {
        "colab": {
          "base_uri": "https://localhost:8080/"
        },
        "id": "h4SBzpsfG_SB",
        "outputId": "4e6d75e7-497a-4d35-e42f-17b6579cfa0b"
      },
      "execution_count": null,
      "outputs": [
        {
          "output_type": "execute_result",
          "data": {
            "text/plain": [
              "array([[-1.78947368],\n",
              "       [ 1.73684211],\n",
              "       [ 0.31578947],\n",
              "       [ 0.94736842]])"
            ]
          },
          "metadata": {},
          "execution_count": 20
        }
      ]
    },
    {
      "cell_type": "code",
      "source": [],
      "metadata": {
        "id": "gnVXOY1Qm3Y5"
      },
      "execution_count": null,
      "outputs": []
    },
    {
      "cell_type": "markdown",
      "source": [
        "### Decompositions"
      ],
      "metadata": {
        "id": "68NYIJrNm53y"
      }
    },
    {
      "cell_type": "code",
      "source": [
        "A = np.array([[2,1,0,3],[4,1,-1,5],[1,2,1,0],[2,2,4,3]])"
      ],
      "metadata": {
        "id": "jys3JCFlmrgH"
      },
      "execution_count": null,
      "outputs": []
    },
    {
      "cell_type": "code",
      "source": [
        "U, s, VT = scipy.linalg.svd(A)\n",
        "print(U)\n",
        "print(s)\n",
        "print(VT.T)"
      ],
      "metadata": {
        "colab": {
          "base_uri": "https://localhost:8080/"
        },
        "id": "DTeRBQD-nCki",
        "outputId": "82ae6a44-be38-49fa-8cc9-46c02ceeffcb"
      },
      "execution_count": null,
      "outputs": [
        {
          "output_type": "stream",
          "name": "stdout",
          "text": [
            "[[-0.42405884 -0.16095779 -0.0209814  -0.8909694 ]\n",
            " [-0.70625215 -0.55362844 -0.0573564   0.43750851]\n",
            " [-0.15540102  0.32433158 -0.93234448  0.03732718]\n",
            " [-0.54519035  0.74993144  0.35637592  0.11561364]]\n",
            "[8.64416292 4.31304451 1.60475692 0.31756853]\n",
            "[[-0.56904388 -0.16513506 -0.30595352  0.74519254]\n",
            " [-0.29285586  0.33246581 -0.76664253 -0.46471621]\n",
            " [-0.18855617  0.89906     0.34305233  0.19609383]\n",
            " [-0.74489669 -0.23213793  0.44829317 -0.43620424]]\n"
          ]
        }
      ]
    },
    {
      "cell_type": "code",
      "source": [
        "m,n = A.shape\n",
        "sigma = scipy.linalg.diagsvd(s,m,n)\n",
        "print(sigma)"
      ],
      "metadata": {
        "colab": {
          "base_uri": "https://localhost:8080/"
        },
        "id": "eIWWNzudnCpe",
        "outputId": "7b321772-f5d1-48a7-9b06-99dcb50bb9f7"
      },
      "execution_count": null,
      "outputs": [
        {
          "output_type": "stream",
          "name": "stdout",
          "text": [
            "[[8.64416292 0.         0.         0.        ]\n",
            " [0.         4.31304451 0.         0.        ]\n",
            " [0.         0.         1.60475692 0.        ]\n",
            " [0.         0.         0.         0.31756853]]\n"
          ]
        }
      ]
    },
    {
      "cell_type": "code",
      "source": [
        "P, L, U = scipy.linalg.lu(A)\n",
        "print(P)\n",
        "print(L)\n",
        "print(U)"
      ],
      "metadata": {
        "colab": {
          "base_uri": "https://localhost:8080/"
        },
        "id": "IHA72SSGnCvA",
        "outputId": "16b923ab-43c3-4c46-d33e-f6fefc11444b"
      },
      "execution_count": null,
      "outputs": [
        {
          "output_type": "stream",
          "name": "stdout",
          "text": [
            "[[0. 0. 0. 1.]\n",
            " [1. 0. 0. 0.]\n",
            " [0. 1. 0. 0.]\n",
            " [0. 0. 1. 0.]]\n",
            "[[1.         0.         0.         0.        ]\n",
            " [0.25       1.         0.         0.        ]\n",
            " [0.5        0.85714286 1.         0.        ]\n",
            " [0.5        0.28571429 0.04166667 1.        ]]\n",
            "[[ 4.          1.         -1.          5.        ]\n",
            " [ 0.          1.75        1.25       -1.25      ]\n",
            " [ 0.          0.          3.42857143  1.57142857]\n",
            " [ 0.          0.          0.          0.79166667]]\n"
          ]
        }
      ]
    },
    {
      "cell_type": "code",
      "source": [
        "Q, R = scipy.linalg.qr(A)\n",
        "print(Q)\n",
        "print(R)"
      ],
      "metadata": {
        "colab": {
          "base_uri": "https://localhost:8080/"
        },
        "id": "HODbcw4WoJvv",
        "outputId": "0f4d52cd-7b92-4f68-d28e-b7ae98b19916"
      },
      "execution_count": null,
      "outputs": [
        {
          "output_type": "stream",
          "name": "stdout",
          "text": [
            "[[-0.4         0.01942572 -0.17823721 -0.89880706]\n",
            " [-0.8        -0.4467915  -0.14186227  0.37450294]\n",
            " [-0.2         0.73817726 -0.60382403  0.22470177]\n",
            " [-0.4         0.50506865  0.76387377  0.03745029]]\n",
            "[[-5.         -2.4        -1.         -6.4       ]\n",
            " [ 0.          2.05912603  3.20524335 -0.66047439]\n",
            " [ 0.          0.          2.59353332  1.04759831]\n",
            " [ 0.          0.          0.         -0.71155559]]\n"
          ]
        }
      ]
    },
    {
      "cell_type": "code",
      "source": [
        "T, Z = scipy.linalg.schur(A)\n",
        "print(T)\n",
        "print(Z)"
      ],
      "metadata": {
        "colab": {
          "base_uri": "https://localhost:8080/"
        },
        "id": "aG2yTPrIoJ1U",
        "outputId": "ec3f7640-323e-46dc-e6c8-67340662e09d"
      },
      "execution_count": null,
      "outputs": [
        {
          "output_type": "stream",
          "name": "stdout",
          "text": [
            "[[ 8.00472429  1.85398844  1.39619239 -2.07174655]\n",
            " [ 0.         -0.34834682  0.10725867  0.58315601]\n",
            " [ 0.          0.         -0.32818873 -1.52979237]\n",
            " [ 0.          0.          4.38372304 -0.32818873]]\n",
            "[[-0.4101284  -0.83408282 -0.30339568 -0.20988475]\n",
            " [-0.63487017  0.3870415   0.22883164 -0.62831108]\n",
            " [-0.2398194  -0.28525493  0.84853366  0.37564201]\n",
            " [-0.60927926  0.27043364 -0.36820887  0.64812549]]\n"
          ]
        }
      ]
    },
    {
      "cell_type": "code",
      "source": [],
      "metadata": {
        "id": "_0A53ummoJ60"
      },
      "execution_count": null,
      "outputs": []
    },
    {
      "cell_type": "code",
      "source": [],
      "metadata": {
        "id": "JYzPnIzcnC0D"
      },
      "execution_count": null,
      "outputs": []
    },
    {
      "cell_type": "markdown",
      "source": [
        "## Numerical Linear Algebra"
      ],
      "metadata": {
        "id": "5Az_yfU9FLMF"
      }
    },
    {
      "cell_type": "code",
      "source": [
        "def GE(A):\n",
        "  ## aka LU factorization\n",
        "  m = A.shape[0]\n",
        "  U = A.copy()\n",
        "  L = np.eye(m)\n",
        "  for k in range(m-1):\n",
        "    for j in range(k+1, m):\n",
        "      L[j,k] = U[j,k] / U[k,k]\n",
        "      U[j, k:m] = U[j, k:m] - L[j,k]*U[k, k:m]\n",
        "  return L, U\n",
        "\n",
        "def GE_P(A):\n",
        "  ## with partial pivoting\n",
        "  m = A.shape[0]\n",
        "  U = A.copy()\n",
        "  L = np.eye(m)\n",
        "  P = np.eye(m)\n",
        "  for k in range(m-1):\n",
        "    i = np.argmax(abs(U[k:m,k])) + k\n",
        "    ## swap rows\n",
        "    U[[k,i], k:m] = U[[i,k], k:m]\n",
        "    L[[k, i], 0:k-1]  = L[[i,k], 0:k-1]\n",
        "    P[[k,i]] = P[[i,k]]\n",
        "    for j in range(k+1, m):\n",
        "      L[j,k] = U[j,k] / U[k,k]\n",
        "      U[j, k:m] = U[j, k:m] - L[j,k]*U[k, k:m]\n",
        "  return P, L, U"
      ],
      "metadata": {
        "id": "6Vib2wChHAfY"
      },
      "execution_count": null,
      "outputs": []
    },
    {
      "cell_type": "code",
      "source": [
        "A = np.array([[2,1,0,3],[4,1,-1,5],[1,2,1,0],[2,2,4,3]], dtype=np.float64)\n",
        "L, U = GE(A)\n",
        "print(L)\n",
        "print(U)\n",
        "print(L.dot(U))"
      ],
      "metadata": {
        "colab": {
          "base_uri": "https://localhost:8080/"
        },
        "id": "U_gbXRz7HAiz",
        "outputId": "cf691099-d52b-4a20-8642-5b0c0e1e7963"
      },
      "execution_count": null,
      "outputs": [
        {
          "output_type": "stream",
          "name": "stdout",
          "text": [
            "[[ 1.   0.   0.   0. ]\n",
            " [ 2.   1.   0.   0. ]\n",
            " [ 0.5 -1.5  1.   0. ]\n",
            " [ 1.  -1.  -6.   1. ]]\n",
            "[[  2.    1.    0.    3. ]\n",
            " [  0.   -1.   -1.   -1. ]\n",
            " [  0.    0.   -0.5  -3. ]\n",
            " [  0.    0.    0.  -19. ]]\n",
            "[[ 2.  1.  0.  3.]\n",
            " [ 4.  1. -1.  5.]\n",
            " [ 1.  2.  1.  0.]\n",
            " [ 2.  2.  4.  3.]]\n"
          ]
        }
      ]
    },
    {
      "cell_type": "code",
      "source": [
        "A = np.array([[2,1,0,3],[4,1,-1,5],[1,2,1,0],[2,2,4,3]], dtype=np.float64)\n",
        "P, L, U = GE_P(A)\n",
        "print(P)\n",
        "print(L)\n",
        "print(U)\n",
        "# print(P.dot(L.dot(U)))"
      ],
      "metadata": {
        "colab": {
          "base_uri": "https://localhost:8080/"
        },
        "id": "hBlyKv3gn6M8",
        "outputId": "9ba9900f-820a-4f77-afe4-d68aa5a39605"
      },
      "execution_count": null,
      "outputs": [
        {
          "output_type": "stream",
          "name": "stdout",
          "text": [
            "[[0. 1. 0. 0.]\n",
            " [0. 0. 1. 0.]\n",
            " [0. 0. 0. 1.]\n",
            " [1. 0. 0. 0.]]\n",
            "[[0.         1.         0.         0.        ]\n",
            " [0.5        0.         0.         0.        ]\n",
            " [0.5        0.28571429 1.         0.        ]\n",
            " [0.25       0.85714286 0.04166667 1.        ]]\n",
            "[[ 4.          1.         -1.          5.        ]\n",
            " [ 0.          1.75        1.25       -1.25      ]\n",
            " [ 0.          0.          3.42857143  1.57142857]\n",
            " [ 0.          0.          0.          0.79166667]]\n"
          ]
        }
      ]
    },
    {
      "cell_type": "code",
      "source": [
        "scipy.linalg.lu(A)"
      ],
      "metadata": {
        "colab": {
          "base_uri": "https://localhost:8080/"
        },
        "id": "a9FuW4SOqFcS",
        "outputId": "2c4a7059-f5aa-4dd7-bba9-cabf29caedbc"
      },
      "execution_count": null,
      "outputs": [
        {
          "output_type": "execute_result",
          "data": {
            "text/plain": [
              "(array([[0., 0., 0., 1.],\n",
              "        [1., 0., 0., 0.],\n",
              "        [0., 1., 0., 0.],\n",
              "        [0., 0., 1., 0.]]),\n",
              " array([[1.        , 0.        , 0.        , 0.        ],\n",
              "        [0.25      , 1.        , 0.        , 0.        ],\n",
              "        [0.5       , 0.85714286, 1.        , 0.        ],\n",
              "        [0.5       , 0.28571429, 0.04166667, 1.        ]]),\n",
              " array([[ 4.        ,  1.        , -1.        ,  5.        ],\n",
              "        [ 0.        ,  1.75      ,  1.25      , -1.25      ],\n",
              "        [ 0.        ,  0.        ,  3.42857143,  1.57142857],\n",
              "        [ 0.        ,  0.        ,  0.        ,  0.79166667]]))"
            ]
          },
          "metadata": {},
          "execution_count": 31
        }
      ]
    },
    {
      "cell_type": "code",
      "source": [
        "def GE_solve(A, b):\n",
        "  L, U = GE(A)\n",
        "  y = scipy.linalg.solve(L, b)\n",
        "  return scipy.linalg.solve(U, y)"
      ],
      "metadata": {
        "id": "IGMlXJsuHAmV"
      },
      "execution_count": null,
      "outputs": []
    },
    {
      "cell_type": "code",
      "source": [
        "A = np.array([[2,1,0,3],[4,1,-1,5],[1,2,1,0],[2,2,4,3]], dtype=np.float64)\n",
        "b = np.array([1,-1,2,4],dtype=np.float64)\n",
        "b.shape = (4, 1)\n",
        "GE_solve(A, b)"
      ],
      "metadata": {
        "colab": {
          "base_uri": "https://localhost:8080/"
        },
        "id": "7XKsGbLaHApP",
        "outputId": "59e42978-68f3-4ee3-87ac-5dd9c16274b3"
      },
      "execution_count": null,
      "outputs": [
        {
          "output_type": "execute_result",
          "data": {
            "text/plain": [
              "array([[-1.78947368],\n",
              "       [ 1.73684211],\n",
              "       [ 0.31578947],\n",
              "       [ 0.94736842]])"
            ]
          },
          "metadata": {},
          "execution_count": 43
        }
      ]
    },
    {
      "cell_type": "code",
      "source": [
        "A = np.array([[2,1,0,3],[4,1,-1,5],[1,2,1,0],[2,2,4,3]], dtype=np.float64)\n",
        "b = np.array([1,-1,2,4],dtype=np.float64)\n",
        "b.shape = (4, 1)\n",
        "scipy.linalg.solve(A,b)"
      ],
      "metadata": {
        "colab": {
          "base_uri": "https://localhost:8080/"
        },
        "id": "kF8K0TKdHAs5",
        "outputId": "62efc02b-c064-4981-eb65-b2a8f41d295a"
      },
      "execution_count": null,
      "outputs": [
        {
          "output_type": "execute_result",
          "data": {
            "text/plain": [
              "array([[-1.78947368],\n",
              "       [ 1.73684211],\n",
              "       [ 0.31578947],\n",
              "       [ 0.94736842]])"
            ]
          },
          "metadata": {},
          "execution_count": 44
        }
      ]
    },
    {
      "cell_type": "code",
      "source": [
        "def qrFactorization(A):\n",
        "  '''\n",
        "  Use modied Gram-Schmidt here. An alternate is to use Householder triangularization\n",
        "  '''\n",
        "  n = A.shape[0]\n",
        "  V = A.copy()\n",
        "  R = np.zeros(A.shape)\n",
        "  Q = np.zeros(A.shape)\n",
        "  for i in range(n):\n",
        "    R[i][i] = scipy.linalg.norm(V[:,i])\n",
        "    Q[:,i] = V[:,i] / R[i][i]\n",
        "    for j in range(i+1, n):\n",
        "      R[i][j] = Q[:,i].dot(V[:,j])\n",
        "      V[:,j] = V[:,j] - R[i,j] * Q[:,i]\n",
        "  return Q, R\n",
        "\n",
        "  n = A.shape[0]\n",
        "  V = A.copy()\n",
        "  R = np.zeros(A.shape)\n",
        "  Q = np.zeros(A.shape)\n",
        "  for i in range(n):\n",
        "    R[i][i] = scipy.linalg.norm(V[:,i])\n",
        "    Q[:,i] = V[:,i] / R[i][i]\n",
        "    for j in range(i+1, n):\n",
        "      R[i][j] = Q[:,i].dot(V[:,j])\n",
        "      V[:,j] = V[:,j] - R[i,j] * Q[:,i]\n",
        "  return Q, R"
      ],
      "metadata": {
        "id": "6gQiYFBm2FXp"
      },
      "execution_count": null,
      "outputs": []
    },
    {
      "cell_type": "code",
      "source": [
        "A = np.array([[2,1,0,3],[4,1,-1,5],[1,2,1,0],[2,2,4,3]], dtype=np.float64)\n",
        "Q, R = qrFactorization(A)\n",
        "print(Q)\n",
        "print(R)\n",
        "print(Q.dot(R))"
      ],
      "metadata": {
        "colab": {
          "base_uri": "https://localhost:8080/"
        },
        "id": "DQ1MUONP2FeA",
        "outputId": "077dde91-62a8-465f-f90f-3e53ee9a0fd0"
      },
      "execution_count": null,
      "outputs": [
        {
          "output_type": "stream",
          "name": "stdout",
          "text": [
            "[[ 0.4         0.01942572 -0.17823721  0.89880706]\n",
            " [ 0.8        -0.4467915  -0.14186227 -0.37450294]\n",
            " [ 0.2         0.73817726 -0.60382403 -0.22470177]\n",
            " [ 0.4         0.50506865  0.76387377 -0.03745029]]\n",
            "[[ 5.          2.4         1.          6.4       ]\n",
            " [ 0.          2.05912603  3.20524335 -0.66047439]\n",
            " [ 0.          0.          2.59353332  1.04759831]\n",
            " [ 0.          0.          0.          0.71155559]]\n",
            "[[ 2.00000000e+00  1.00000000e+00 -1.53185205e-17  3.00000000e+00]\n",
            " [ 4.00000000e+00  1.00000000e+00 -1.00000000e+00  5.00000000e+00]\n",
            " [ 1.00000000e+00  2.00000000e+00  1.00000000e+00 -3.18585298e-17]\n",
            " [ 2.00000000e+00  2.00000000e+00  4.00000000e+00  3.00000000e+00]]\n"
          ]
        }
      ]
    },
    {
      "cell_type": "code",
      "source": [],
      "metadata": {
        "id": "g3uUYMJl2FnJ"
      },
      "execution_count": null,
      "outputs": []
    },
    {
      "cell_type": "markdown",
      "source": [
        "### Eigenvalue Solvers"
      ],
      "metadata": {
        "id": "1yBqyIyG_Kws"
      }
    },
    {
      "cell_type": "markdown",
      "source": [
        "Note that a polynomial can be converted to a matrix (companion matrix). Thus, finding the roots to a polynomial can be done by finding the eigenvalues to the companion matrix."
      ],
      "metadata": {
        "id": "g7E6_iuR_O32"
      }
    },
    {
      "cell_type": "code",
      "source": [
        "poly = np.polynomial.Polynomial.fromroots([-5,-1,3])\n",
        "print(poly)"
      ],
      "metadata": {
        "colab": {
          "base_uri": "https://localhost:8080/"
        },
        "id": "-66U1JtfTpUi",
        "outputId": "aa5da369-71b8-4656-d282-f4b7fadaf1bd"
      },
      "execution_count": null,
      "outputs": [
        {
          "output_type": "stream",
          "name": "stdout",
          "text": [
            "-15.0 - 13.0·x + 3.0·x² + 1.0·x³\n"
          ]
        }
      ]
    },
    {
      "cell_type": "code",
      "source": [
        "coefs = [1,3,-13,-15]\n",
        "companion_matrix = scipy.linalg.companion(coefs)\n",
        "print(companion_matrix)"
      ],
      "metadata": {
        "id": "NopbleF6cPxj",
        "colab": {
          "base_uri": "https://localhost:8080/"
        },
        "outputId": "3493df40-7b72-481d-a913-75de64255171"
      },
      "execution_count": null,
      "outputs": [
        {
          "output_type": "stream",
          "name": "stdout",
          "text": [
            "[[-3. 13. 15.]\n",
            " [ 1.  0.  0.]\n",
            " [ 0.  1.  0.]]\n"
          ]
        }
      ]
    },
    {
      "cell_type": "code",
      "source": [
        "def HessenbergForm(A):\n",
        "  m = A.shape[0]\n",
        "  for k in range(m-2):\n",
        "    x = A[k+1:m, k]\n",
        "    e1 = np.zeros_like(x)\n",
        "    e1[0] = 1\n",
        "    v = sign(x[0]) *scipy.linalg.norm(x) * e1 + x\n",
        "    v = v / scipy.linalg.norm(v)\n",
        "    v = v.reshape((-1,1))\n",
        "    A[k+1:m, k:m] = A[k+1:m, k:m] - 2 * v.dot(v.T.dot(A[k+1:m, k:m]))\n",
        "    A[0:m, k+1:m] = A[0:m, k+1:m] - 2 * (A[0:m, k+1:m].dot(v)).dot(v.T)\n",
        "  return A\n",
        "\n",
        "def sign(x):\n",
        "  if x > 0:\n",
        "    return 1\n",
        "  elif x < 0:\n",
        "    return -1\n",
        "  return 0"
      ],
      "metadata": {
        "id": "FaQRyxeJ2FsT"
      },
      "execution_count": null,
      "outputs": []
    },
    {
      "cell_type": "code",
      "source": [
        "A = np.array([[2,1,0,3],[4,1,-1,5],[1,2,1,0],[2,2,4,3]], dtype=np.float64)\n",
        "H = HessenbergForm(A)\n",
        "print(H)"
      ],
      "metadata": {
        "colab": {
          "base_uri": "https://localhost:8080/"
        },
        "id": "9gQdemUCdJ-U",
        "outputId": "8f1d7003-bc9a-4bf2-f78b-8e13d3fb9bfd"
      },
      "execution_count": null,
      "outputs": [
        {
          "output_type": "stream",
          "name": "stdout",
          "text": [
            "[[ 2.00000000e+00 -2.18217890e+00 -1.85421014e+00  1.34164079e+00]\n",
            " [-4.58257569e+00  4.61904762e+00  3.79066762e+00 -1.56144012e+00]\n",
            " [-2.22044605e-16  2.44902683e+00  5.80952381e-01  3.62241698e+00]\n",
            " [-4.44089210e-16 -4.44089210e-16 -1.83303028e+00 -2.00000000e-01]]\n"
          ]
        }
      ]
    },
    {
      "cell_type": "code",
      "source": [
        "def householder_reflection(a):\n",
        "    v = a.copy()\n",
        "    v[0] += np.sign(a[0]) * np.linalg.norm(a)\n",
        "    v /= np.linalg.norm(v)\n",
        "    return np.eye(len(a)) - 2 * np.outer(v, v)\n",
        "    # return np.eye(len(a)) - 2 * v.dot(v.T)\n",
        "\n",
        "def hessenberg_reduction(A):\n",
        "    A = A.copy()\n",
        "    n = A.shape[0]\n",
        "    for k in range(n - 2):\n",
        "        x = A[k + 1:n, k]\n",
        "        H = householder_reflection(x)\n",
        "        A[k + 1:n, k:n] = H.dot(A[k + 1:n, k:n])\n",
        "        A[:, k + 1:n] = A[:, k + 1:n].dot(H)\n",
        "    return A"
      ],
      "metadata": {
        "id": "JMrNjrvvW8A7"
      },
      "execution_count": null,
      "outputs": []
    },
    {
      "cell_type": "code",
      "source": [
        "A = np.array([[2,1,0,3],[4,1,-1,5],[1,2,1,0],[2,2,4,3]], dtype=np.float64)\n",
        "H = hessenberg_reduction(A)\n",
        "print(H)"
      ],
      "metadata": {
        "colab": {
          "base_uri": "https://localhost:8080/"
        },
        "id": "b1-SAi_zW8qy",
        "outputId": "0bb1d51e-a19f-4bee-8dbb-dcd2142e9a75"
      },
      "execution_count": null,
      "outputs": [
        {
          "output_type": "stream",
          "name": "stdout",
          "text": [
            "[[ 2.00000000e+00 -2.18217890e+00 -1.85421014e+00  1.34164079e+00]\n",
            " [-4.58257569e+00  4.61904762e+00  3.79066762e+00 -1.56144012e+00]\n",
            " [-8.32667268e-17  2.44902683e+00  5.80952381e-01  3.62241698e+00]\n",
            " [-2.22044605e-16  6.00986976e-16 -1.83303028e+00 -2.00000000e-01]]\n"
          ]
        }
      ]
    },
    {
      "cell_type": "code",
      "source": [
        "A = np.array([[2,1,0,3],[4,1,-1,5],[1,2,1,0],[2,2,4,3]], dtype=np.float64)\n",
        "scipy.linalg.hessenberg(A)"
      ],
      "metadata": {
        "id": "AAQAsfVC2F1h",
        "colab": {
          "base_uri": "https://localhost:8080/"
        },
        "outputId": "f54a16b3-35bc-4bc3-95f7-56cd1397e51c"
      },
      "execution_count": null,
      "outputs": [
        {
          "output_type": "execute_result",
          "data": {
            "text/plain": [
              "array([[ 2.        , -2.1821789 , -1.85421014,  1.34164079],\n",
              "       [-4.58257569,  4.61904762,  3.79066762, -1.56144012],\n",
              "       [ 0.        ,  2.44902683,  0.58095238,  3.62241698],\n",
              "       [ 0.        ,  0.        , -1.83303028, -0.2       ]])"
            ]
          },
          "metadata": {},
          "execution_count": 167
        }
      ]
    },
    {
      "cell_type": "code",
      "source": [
        "def powerMethod(A, shift = 0, M_iters = 100, tol = 10 ** (-7)):\n",
        "  \"\"\"\n",
        "  calculates eigenpair with largest eigenvalue\n",
        "  \"\"\"\n",
        "  v = np.ones((A.shape[0],1))\n",
        "  v = v / scipy.linalg.norm(v)\n",
        "  ew = 0\n",
        "  I = np.eye(A.shape[0], A.shape[1])\n",
        "  for _ in range(M_iters):\n",
        "    ew_prev = ew\n",
        "    w = (A - shift * I).dot(v)\n",
        "    v = w / scipy.linalg.norm(w)\n",
        "    ew = v.T.dot(A.dot(v))\n",
        "    if abs(ew - ew_prev) < tol:\n",
        "      return ew, v\n",
        "  raise Exception('Method Failed: Reached Max Iteration Value')"
      ],
      "metadata": {
        "id": "Jpr6u4l9HAwD"
      },
      "execution_count": null,
      "outputs": []
    },
    {
      "cell_type": "code",
      "source": [
        "A = np.array([[2,1,0,3],[4,1,-1,5],[1,2,1,0],[2,2,4,3]], dtype=np.float64)\n",
        "powerMethod(A)"
      ],
      "metadata": {
        "colab": {
          "base_uri": "https://localhost:8080/"
        },
        "id": "7sKYNV3nSSjx",
        "outputId": "c3d5c373-ecdf-41c3-9292-c74fa741939a"
      },
      "execution_count": null,
      "outputs": [
        {
          "output_type": "execute_result",
          "data": {
            "text/plain": [
              "(array([[8.00472418]]),\n",
              " array([[0.41012841],\n",
              "        [0.6348702 ],\n",
              "        [0.23981939],\n",
              "        [0.60927922]]))"
            ]
          },
          "metadata": {},
          "execution_count": 169
        }
      ]
    },
    {
      "cell_type": "code",
      "source": [
        "powerMethod(A, shift = 1)"
      ],
      "metadata": {
        "colab": {
          "base_uri": "https://localhost:8080/"
        },
        "id": "QeiW33AyV96c",
        "outputId": "4081f856-1e27-491d-fc60-9fcbd385f82d"
      },
      "execution_count": null,
      "outputs": [
        {
          "output_type": "execute_result",
          "data": {
            "text/plain": [
              "(array([[8.00472422]]),\n",
              " array([[0.41012841],\n",
              "        [0.63487019],\n",
              "        [0.23981941],\n",
              "        [0.60927923]]))"
            ]
          },
          "metadata": {},
          "execution_count": 170
        }
      ]
    },
    {
      "cell_type": "code",
      "source": [
        "ew, ev = scipy.linalg.eig(A)\n",
        "print(ew)\n",
        "print(ev)"
      ],
      "metadata": {
        "colab": {
          "base_uri": "https://localhost:8080/"
        },
        "id": "0iHnRXivSSov",
        "outputId": "b8ce7235-6f79-439c-ad11-85b8a0772976"
      },
      "execution_count": null,
      "outputs": [
        {
          "output_type": "stream",
          "name": "stdout",
          "text": [
            "[ 8.00472429+0.j         -0.34834682+0.j         -0.32818873+2.58963049j\n",
            " -0.32818873-2.58963049j]\n",
            "[[-0.4101284 +0.j         -0.72540068+0.j         -0.27171   -0.01282954j\n",
            "  -0.27171   +0.01282954j]\n",
            " [-0.63487017+0.j          0.51541005+0.j         -0.63661547+0.j\n",
            "  -0.63661547-0.j        ]\n",
            " [-0.2398194 +0.j         -0.226514  +0.j          0.23833349+0.47434917j\n",
            "   0.23833349-0.47434917j]\n",
            " [-0.60927926+0.j          0.39602744+0.j          0.43414379-0.2245863j\n",
            "   0.43414379+0.2245863j ]]\n"
          ]
        }
      ]
    },
    {
      "cell_type": "code",
      "source": [
        "scipy.linalg.eigvals(A)"
      ],
      "metadata": {
        "colab": {
          "base_uri": "https://localhost:8080/"
        },
        "id": "hWwSxQcLSSta",
        "outputId": "ae0cb759-685f-4c40-8b27-414bc30b872e"
      },
      "execution_count": null,
      "outputs": [
        {
          "output_type": "execute_result",
          "data": {
            "text/plain": [
              "array([ 8.00472429+0.j        , -0.34834682+0.j        ,\n",
              "       -0.32818873+2.58963049j, -0.32818873-2.58963049j])"
            ]
          },
          "metadata": {},
          "execution_count": 57
        }
      ]
    },
    {
      "cell_type": "code",
      "source": [
        "def inversePowerMethod(A, shift = 0, M_iters = 100, tol = 10 ** (-7)):\n",
        "  \"\"\"\n",
        "  calculates eigenpair where eigenvalue closest to shift\n",
        "  \"\"\"\n",
        "  v = np.ones((A.shape[0],1))\n",
        "  v = v / scipy.linalg.norm(v)\n",
        "  ew = 0\n",
        "  I = np.eye(A.shape[0], A.shape[1])\n",
        "  for _ in range(M_iters):\n",
        "    ew_prev = ew\n",
        "    w = scipy.linalg.solve(A - shift * I , v)\n",
        "    v = w / scipy.linalg.norm(w)\n",
        "    ew = v.T.dot(A.dot(v))\n",
        "    if abs(ew - ew_prev) < tol:\n",
        "      return ew, v\n",
        "  raise Exception('Method Failed: Reached Max Iteration Value')"
      ],
      "metadata": {
        "id": "b2-1DRmPVbEx"
      },
      "execution_count": null,
      "outputs": []
    },
    {
      "cell_type": "code",
      "source": [
        "A = np.array([[2,1,0,3],[4,1,-1,5],[1,2,1,0],[2,2,4,3]], dtype=np.float64)\n",
        "inversePowerMethod(A)"
      ],
      "metadata": {
        "colab": {
          "base_uri": "https://localhost:8080/"
        },
        "id": "_DHgrJnRVbKM",
        "outputId": "2c97b493-6d7d-480e-b55f-ace08b238025"
      },
      "execution_count": null,
      "outputs": [
        {
          "output_type": "execute_result",
          "data": {
            "text/plain": [
              "(array([[-0.34834683]]),\n",
              " array([[ 0.72540068],\n",
              "        [-0.51541006],\n",
              "        [ 0.226514  ],\n",
              "        [-0.39602744]]))"
            ]
          },
          "metadata": {},
          "execution_count": 59
        }
      ]
    },
    {
      "cell_type": "code",
      "source": [
        "inversePowerMethod(A, shift = 7)"
      ],
      "metadata": {
        "colab": {
          "base_uri": "https://localhost:8080/"
        },
        "id": "xFZta9IqVbO1",
        "outputId": "b27a017c-c065-48f1-fd92-8ac605cf647d"
      },
      "execution_count": null,
      "outputs": [
        {
          "output_type": "execute_result",
          "data": {
            "text/plain": [
              "(array([[8.00472428]]),\n",
              " array([[0.4101284 ],\n",
              "        [0.63487017],\n",
              "        [0.2398194 ],\n",
              "        [0.60927926]]))"
            ]
          },
          "metadata": {},
          "execution_count": 60
        }
      ]
    },
    {
      "cell_type": "code",
      "source": [
        "scipy.linalg.eig(companion_matrix)"
      ],
      "metadata": {
        "colab": {
          "base_uri": "https://localhost:8080/"
        },
        "id": "RbG1UVEmUzCv",
        "outputId": "e08ea13b-07bb-4062-f3c5-d047e623765b"
      },
      "execution_count": null,
      "outputs": [
        {
          "output_type": "execute_result",
          "data": {
            "text/plain": [
              "(array([-5.+0.j,  3.+0.j, -1.+0.j]),\n",
              " array([[ 0.97982725,  0.94345635,  0.57735027],\n",
              "        [-0.19596545,  0.31448545, -0.57735027],\n",
              "        [ 0.03919309,  0.10482848,  0.57735027]]))"
            ]
          },
          "metadata": {},
          "execution_count": 61
        }
      ]
    },
    {
      "cell_type": "code",
      "source": [
        "inversePowerMethod(companion_matrix, shift = 4)"
      ],
      "metadata": {
        "colab": {
          "base_uri": "https://localhost:8080/"
        },
        "id": "YdF6ltQ3UqKy",
        "outputId": "2094d0ac-3a72-4dc3-d238-42f47bf8717c"
      },
      "execution_count": null,
      "outputs": [
        {
          "output_type": "execute_result",
          "data": {
            "text/plain": [
              "(array([[2.99999999]]),\n",
              " array([[-0.94345635],\n",
              "        [-0.31448545],\n",
              "        [-0.10482849]]))"
            ]
          },
          "metadata": {},
          "execution_count": 62
        }
      ]
    },
    {
      "cell_type": "code",
      "source": [
        "inversePowerMethod(companion_matrix, shift = 0)"
      ],
      "metadata": {
        "colab": {
          "base_uri": "https://localhost:8080/"
        },
        "id": "SFUU3LPPU-sd",
        "outputId": "6c6adb4b-d7c5-4f5e-a3e4-6193213758de"
      },
      "execution_count": null,
      "outputs": [
        {
          "output_type": "execute_result",
          "data": {
            "text/plain": [
              "(array([[-0.99999999]]),\n",
              " array([[ 0.57735027],\n",
              "        [-0.57735027],\n",
              "        [ 0.57735027]]))"
            ]
          },
          "metadata": {},
          "execution_count": 63
        }
      ]
    },
    {
      "cell_type": "code",
      "source": [
        "inversePowerMethod(companion_matrix, shift = -4)"
      ],
      "metadata": {
        "colab": {
          "base_uri": "https://localhost:8080/"
        },
        "id": "79LPize6U-ya",
        "outputId": "1608e568-7e40-4bb7-a94a-4807928added"
      },
      "execution_count": null,
      "outputs": [
        {
          "output_type": "execute_result",
          "data": {
            "text/plain": [
              "(array([[-4.99999999]]),\n",
              " array([[ 0.97982725],\n",
              "        [-0.19596545],\n",
              "        [ 0.03919309]]))"
            ]
          },
          "metadata": {},
          "execution_count": 64
        }
      ]
    },
    {
      "cell_type": "code",
      "source": [
        "def RayleighQuotientIter(A, M_iters = 100, tol = 10 ** (-7)):\n",
        "  \"\"\"\n",
        "  calculates any eigenpair\n",
        "  \"\"\"\n",
        "  v = np.ones((A.shape[0],1))\n",
        "  v = v / scipy.linalg.norm(v)\n",
        "  ew = v.T.dot(A.dot(v))\n",
        "  I = np.eye(A.shape[0], A.shape[1])\n",
        "  for _ in range(M_iters):\n",
        "    ew_prev = ew\n",
        "    w = scipy.linalg.solve(A - ew * I, v)\n",
        "    v = w / scipy.linalg.norm(w)\n",
        "    ew = v.T.dot(A.dot(v))\n",
        "    if abs(ew - ew_prev) < tol:\n",
        "      return ew,v\n",
        "  raise Exception('Method Failed: Reached Max Iteration Value')"
      ],
      "metadata": {
        "id": "TcIbQrczWi-7"
      },
      "execution_count": null,
      "outputs": []
    },
    {
      "cell_type": "code",
      "source": [
        "A = np.array([[2,1,0,3],[4,1,-1,5],[1,2,1,0],[2,2,4,3]], dtype=np.float64)\n",
        "ew, ev = RayleighQuotientIter(A)\n",
        "print(ew)\n",
        "print(ev)"
      ],
      "metadata": {
        "colab": {
          "base_uri": "https://localhost:8080/"
        },
        "id": "YEf_k2oRWjFd",
        "outputId": "9484d758-612f-4edb-f5e6-bdf38a4cad86"
      },
      "execution_count": null,
      "outputs": [
        {
          "output_type": "stream",
          "name": "stdout",
          "text": [
            "[[8.00472429]]\n",
            "[[0.4101284 ]\n",
            " [0.63487017]\n",
            " [0.2398194 ]\n",
            " [0.60927926]]\n"
          ]
        }
      ]
    },
    {
      "cell_type": "code",
      "source": [
        "print(ew*ev)\n",
        "print(A.dot(ev))"
      ],
      "metadata": {
        "colab": {
          "base_uri": "https://localhost:8080/"
        },
        "id": "NKxwQQS2WjLS",
        "outputId": "7af9fa4c-fbc4-434f-e1cb-6a3591b1f985"
      },
      "execution_count": null,
      "outputs": [
        {
          "output_type": "stream",
          "name": "stdout",
          "text": [
            "[[3.28296476]\n",
            " [5.08196068]\n",
            " [1.91968814]\n",
            " [4.87711251]]\n",
            "[[3.28296476]\n",
            " [5.08196068]\n",
            " [1.91968814]\n",
            " [4.87711251]]\n"
          ]
        }
      ]
    },
    {
      "cell_type": "code",
      "source": [
        "def qrAlgorithm(A, M_iters = 100, tol = 10 ** (-7), shift_bool = False):\n",
        "  A = scipy.linalg.hessenberg(A)\n",
        "  I = np.eye(A.shape[0])\n",
        "  for _ in range(M_iters):\n",
        "    ew_prev = np.diag(A)\n",
        "    if shift_bool:\n",
        "      shift = A[-1, -1] ## fails if two symmetric ew\n",
        "    else:\n",
        "      shift = 0\n",
        "    Q, R = scipy.linalg.qr(A - shift*I)\n",
        "    A = R.dot(Q) + shift * I\n",
        "    ew = np.diag(A)\n",
        "    if max(abs(ew - ew_prev)) < tol:\n",
        "      return ew, A\n",
        "      # return A\n",
        "    ## should add deflation\n",
        "  return ew, A\n",
        "  # return A"
      ],
      "metadata": {
        "id": "BT0CIV4lWjSB"
      },
      "execution_count": null,
      "outputs": []
    },
    {
      "cell_type": "code",
      "source": [
        "A = np.array([[2,1,0,3],[4,1,-1,5],[1,2,1,0],[2,2,4,3]], dtype=np.float64)\n",
        "ew, B = qrAlgorithm(A)\n",
        "print(ew)\n",
        "print(B)"
      ],
      "metadata": {
        "colab": {
          "base_uri": "https://localhost:8080/"
        },
        "id": "TXcxTG9NZBio",
        "outputId": "67b47053-5350-4f8a-aeaa-72f83890a477"
      },
      "execution_count": null,
      "outputs": [
        {
          "output_type": "stream",
          "name": "stdout",
          "text": [
            "[ 8.00472429  0.11254659 -0.76892406 -0.34834682]\n",
            "[[ 8.00472429e+00 -2.34399766e-01  2.10411212e+00 -2.27958967e+00]\n",
            " [ 1.19867990e-48  1.12546591e-01 -1.71785133e+00  3.40283646e-01]\n",
            " [ 0.00000000e+00  4.01689808e+00 -7.68924055e-01  1.52252954e+00]\n",
            " [ 0.00000000e+00  0.00000000e+00  1.35286151e-87 -3.48346824e-01]]\n"
          ]
        }
      ]
    },
    {
      "cell_type": "code",
      "source": [
        "coefs = [1,3,-13,-15]\n",
        "companion_matrix = scipy.linalg.companion(coefs)\n",
        "# print(companion_matrix)\n",
        "qrAlgorithm(companion_matrix)"
      ],
      "metadata": {
        "id": "XMDptxOcZBoh",
        "colab": {
          "base_uri": "https://localhost:8080/"
        },
        "outputId": "b92a1e1b-53c8-46fb-8831-a42a0c0d3664"
      },
      "execution_count": null,
      "outputs": [
        {
          "output_type": "execute_result",
          "data": {
            "text/plain": [
              "(array([-4.99999997,  2.99999997, -1.        ]),\n",
              " array([[-4.99999997e+00,  1.39129280e+01,  1.30585479e+01],\n",
              "        [ 1.53782853e-08,  2.99999997e+00,  2.42997156e+00],\n",
              "        [ 0.00000000e+00,  5.91272223e-18, -1.00000000e+00]]))"
            ]
          },
          "metadata": {},
          "execution_count": 70
        }
      ]
    },
    {
      "cell_type": "code",
      "source": [],
      "metadata": {
        "id": "ty6J9tMDZB0_"
      },
      "execution_count": null,
      "outputs": []
    },
    {
      "cell_type": "code",
      "source": [],
      "metadata": {
        "id": "1uURO5KOVbWs"
      },
      "execution_count": null,
      "outputs": []
    },
    {
      "cell_type": "code",
      "source": [],
      "metadata": {
        "id": "3Fx-KoNhSSx8"
      },
      "execution_count": null,
      "outputs": []
    },
    {
      "cell_type": "markdown",
      "source": [
        "## Approximating Functions"
      ],
      "metadata": {
        "id": "ORZBOGbIFRBX"
      }
    },
    {
      "cell_type": "markdown",
      "source": [
        "$$\n",
        "p(x) = \\prod _{i=0} ^ {n} d_i \\sum _{j = 0} ^ {i-1} (x - x_j)\n",
        "$$"
      ],
      "metadata": {
        "id": "b376Ww6XkySq"
      }
    },
    {
      "cell_type": "code",
      "source": [
        "## polynomial interpolation: divided differences\n",
        "def dividedDifferences(x,y):\n",
        "  n = len(y)\n",
        "  d = y.copy()\n",
        "  for j in range(1, n):\n",
        "    for i in range(n-1, j-1, -1):\n",
        "      d[i] = (d[i] - d[i-1]) / (x[i] - x[i-j])\n",
        "  return d"
      ],
      "metadata": {
        "id": "IfCWPpaHHBZo"
      },
      "execution_count": null,
      "outputs": []
    },
    {
      "cell_type": "code",
      "source": [
        "x = [3,1,5,6]\n",
        "y = [1,-3,2,4]\n",
        "dividedDifferences(x,y)"
      ],
      "metadata": {
        "id": "7IrJRZV6HBc1",
        "colab": {
          "base_uri": "https://localhost:8080/"
        },
        "outputId": "f751cbcb-1026-4e29-dbc1-0b3fb93ba88b"
      },
      "execution_count": null,
      "outputs": [
        {
          "output_type": "execute_result",
          "data": {
            "text/plain": [
              "[1, 2.0, -0.375, 0.17500000000000002]"
            ]
          },
          "metadata": {},
          "execution_count": 72
        }
      ]
    },
    {
      "cell_type": "code",
      "source": [
        "[1,2,-3/8, 7/40]"
      ],
      "metadata": {
        "id": "NrcR9xAvHBgb",
        "colab": {
          "base_uri": "https://localhost:8080/"
        },
        "outputId": "9a52574a-3287-4895-bd2e-b9a2588d5e45"
      },
      "execution_count": null,
      "outputs": [
        {
          "output_type": "execute_result",
          "data": {
            "text/plain": [
              "[1, 2, -0.375, 0.175]"
            ]
          },
          "metadata": {},
          "execution_count": 73
        }
      ]
    },
    {
      "cell_type": "code",
      "source": [],
      "metadata": {
        "id": "JarId4nHHBnv"
      },
      "execution_count": null,
      "outputs": []
    },
    {
      "cell_type": "code",
      "source": [],
      "metadata": {
        "id": "yJtu1dFMHBrG"
      },
      "execution_count": null,
      "outputs": []
    },
    {
      "cell_type": "code",
      "source": [],
      "metadata": {
        "id": "R9CVc-6fHBud"
      },
      "execution_count": null,
      "outputs": []
    },
    {
      "cell_type": "code",
      "source": [],
      "metadata": {
        "id": "ztfikpiWHBx6"
      },
      "execution_count": null,
      "outputs": []
    },
    {
      "cell_type": "markdown",
      "source": [
        "## Numerical Differentiation and Integration"
      ],
      "metadata": {
        "id": "51F9hosbFURD"
      }
    },
    {
      "cell_type": "code",
      "source": [
        "## numerical differentiation: Richardson Extrapolation\n",
        "\n",
        "def richardsonExtrapolation(f, x, h = 1, M = 26):\n",
        "  D = np.ones((M, M))\n",
        "  for n in range(M):\n",
        "    D[n, 0] = finiteDifference(f, x, h/2**n)\n",
        "  for k in range(1, M):\n",
        "    for n in range(k, M):\n",
        "      D[n,k] = D[n, k-1] + (D[n, k-1] - D[n-1, k-1]) / (4**k - 1)\n",
        "  return D[-1,-1]\n",
        "def finiteDifference(f, x, h):  ## central difference\n",
        "  return (f(x+h) - f(x-h)) / (2*h)"
      ],
      "metadata": {
        "id": "czuN6QXkHC1G"
      },
      "execution_count": null,
      "outputs": []
    },
    {
      "cell_type": "code",
      "source": [
        "def function(x):\n",
        "  return math.atan(x)\n",
        "\n",
        "richardsonExtrapolation(function, np.sqrt(2))"
      ],
      "metadata": {
        "id": "KQHyXs0LHC4h",
        "colab": {
          "base_uri": "https://localhost:8080/"
        },
        "outputId": "fe579df5-42a8-4feb-dd91-e77534b33908"
      },
      "execution_count": null,
      "outputs": [
        {
          "output_type": "execute_result",
          "data": {
            "text/plain": [
              "0.3333333312192943"
            ]
          },
          "metadata": {},
          "execution_count": 173
        }
      ]
    },
    {
      "cell_type": "markdown",
      "source": [
        "For a derivative of a numpy array use np.gradient(), which useing central difference for interior points and forward/backward difference for boundary points."
      ],
      "metadata": {
        "id": "EBnrUqNgNKip"
      }
    },
    {
      "cell_type": "code",
      "source": [
        "## numerical integration\n",
        "## (composite) trapezoid rule\n",
        "def trapezoidRule(f, a, b, n= 100):\n",
        "  h = (b-a) / n\n",
        "  result = 0.5*(f(a) + f(b))\n",
        "  for i in range(1, n):\n",
        "    result += f(a+i*h)\n",
        "  result = h * result\n",
        "  return result"
      ],
      "metadata": {
        "id": "XvqJHd3jHC8J"
      },
      "execution_count": null,
      "outputs": []
    },
    {
      "cell_type": "code",
      "source": [
        "trapezoidRule(lambda x: math.exp(-x **2), 0, 2)"
      ],
      "metadata": {
        "id": "InEZCsAvHC_w",
        "colab": {
          "base_uri": "https://localhost:8080/"
        },
        "outputId": "813dc1a0-832f-4aa0-a94d-1063f6b3e349"
      },
      "execution_count": null,
      "outputs": [
        {
          "output_type": "execute_result",
          "data": {
            "text/plain": [
              "0.8820789488400428"
            ]
          },
          "metadata": {},
          "execution_count": 175
        }
      ]
    },
    {
      "cell_type": "code",
      "source": [
        "arr = [math.exp(-x**2) for x in np.linspace(0,2,100)]"
      ],
      "metadata": {
        "id": "s1x8r9ttHDD3"
      },
      "execution_count": null,
      "outputs": []
    },
    {
      "cell_type": "code",
      "source": [
        "scipy.integrate.trapezoid(arr, np.linspace(0,2,100))  ## integrate samples not function"
      ],
      "metadata": {
        "id": "I1jRidePHDK7",
        "colab": {
          "base_uri": "https://localhost:8080/"
        },
        "outputId": "506f1b2c-15a6-4849-8a57-c7fad98ef38a"
      },
      "execution_count": null,
      "outputs": [
        {
          "output_type": "execute_result",
          "data": {
            "text/plain": [
              "0.8820788992624999"
            ]
          },
          "metadata": {},
          "execution_count": 177
        }
      ]
    },
    {
      "cell_type": "code",
      "source": [
        "## (composite) simpsons rule\n",
        "def simpsonsRule(f, a, b, n= 100):\n",
        "  h = (b-a) / n\n",
        "  ## x_i = a + i * h\n",
        "  result = f(a) + f(b)\n",
        "  i = 1\n",
        "  result += 4 * f(a+(2*i - 1)*h)\n",
        "  for i in range(2, n//2+1):\n",
        "    result += 2 * f(a+(2*i - 2)*h) + 4 * f(a+(2*i - 1)*h)\n",
        "  result = h / 3 * result\n",
        "  return result"
      ],
      "metadata": {
        "id": "NVwFRjJwHDN9"
      },
      "execution_count": null,
      "outputs": []
    },
    {
      "cell_type": "code",
      "source": [
        "simpsonsRule(lambda x: math.exp(-x **2), 0, 2)"
      ],
      "metadata": {
        "id": "nJPn56rwHDRQ",
        "colab": {
          "base_uri": "https://localhost:8080/"
        },
        "outputId": "b46f58ce-c3e7-454e-c305-a28a305f2d7b"
      },
      "execution_count": null,
      "outputs": [
        {
          "output_type": "execute_result",
          "data": {
            "text/plain": [
              "0.8820813901111869"
            ]
          },
          "metadata": {},
          "execution_count": 179
        }
      ]
    },
    {
      "cell_type": "code",
      "source": [
        "arr = [math.exp(-x**2) for x in np.linspace(0,2,100)]"
      ],
      "metadata": {
        "id": "S_yN1nLoUrzX"
      },
      "execution_count": null,
      "outputs": []
    },
    {
      "cell_type": "code",
      "source": [
        "scipy.integrate.simpson(arr, x = np.linspace(0,2,100))  ## integrate samples not function"
      ],
      "metadata": {
        "colab": {
          "base_uri": "https://localhost:8080/"
        },
        "outputId": "9a0eda5c-9a50-4e25-ee1a-bdabf221dda6",
        "id": "uwQStWH4UrzZ"
      },
      "execution_count": null,
      "outputs": [
        {
          "output_type": "execute_result",
          "data": {
            "text/plain": [
              "0.8820813848053503"
            ]
          },
          "metadata": {},
          "execution_count": 181
        }
      ]
    },
    {
      "cell_type": "code",
      "source": [
        "scipy.integrate.quad(lambda x: math.exp(-x **2), 0, 2)"
      ],
      "metadata": {
        "colab": {
          "base_uri": "https://localhost:8080/"
        },
        "id": "xGSjylf1UqCe",
        "outputId": "beb975d4-57b4-4787-e609-cc2c5a2ccee0"
      },
      "execution_count": null,
      "outputs": [
        {
          "output_type": "execute_result",
          "data": {
            "text/plain": [
              "(0.8820813907624215, 9.793070696178202e-15)"
            ]
          },
          "metadata": {},
          "execution_count": 182
        }
      ]
    },
    {
      "cell_type": "code",
      "source": [
        "## numerical differentiation: Richardson Extrapolation\n",
        "\n",
        "def RombergIntegration(f, a,b, M = 10):\n",
        "  h = b-a\n",
        "  R = np.ones((M, M))\n",
        "  R[0,0] = 0.5*h*(f(a) + f(b))\n",
        "  for n in range(1,M):\n",
        "    h /= 2\n",
        "    sum_value = 0\n",
        "    for i in range(1, int(2**(n-1)) + 1):\n",
        "      ## can improve by using array instead of sum (also save calculated values)\n",
        "      sum_value += f(a + (2*i-1)*h)\n",
        "    R[n, 0] = 0.5 * R[n-1, 0] + h * sum_value\n",
        "    for k in range(1, n+1):\n",
        "        R[n,k] = R[n, k-1] + (R[n, k-1] - R[n-1, k-1]) / (4**k - 1)\n",
        "  return R[-1,-1]"
      ],
      "metadata": {
        "id": "ds0nM5SiUqHd"
      },
      "execution_count": null,
      "outputs": []
    },
    {
      "cell_type": "code",
      "source": [
        "RombergIntegration(lambda x: math.exp(-x **2), 0, 2)"
      ],
      "metadata": {
        "colab": {
          "base_uri": "https://localhost:8080/"
        },
        "id": "XzOGSPJIUqMK",
        "outputId": "ad4fb105-cfb4-4437-d6ed-2fd78913c40b"
      },
      "execution_count": null,
      "outputs": [
        {
          "output_type": "execute_result",
          "data": {
            "text/plain": [
              "0.8820813907624225"
            ]
          },
          "metadata": {},
          "execution_count": 185
        }
      ]
    },
    {
      "cell_type": "code",
      "source": [
        "k = 5\n",
        "arr = [math.exp(-x**2) for x in np.linspace(0,2,2**k+1)]"
      ],
      "metadata": {
        "id": "B7tdmI4bby8l"
      },
      "execution_count": null,
      "outputs": []
    },
    {
      "cell_type": "code",
      "source": [
        "scipy.integrate.romb(arr, dx = (2-0)/(2**k) )  ## integrate samples not function"
      ],
      "metadata": {
        "colab": {
          "base_uri": "https://localhost:8080/"
        },
        "outputId": "e4f4724f-36b2-4ef8-bc11-5f6d8afbd0a0",
        "id": "Y9ekuWTjby9G"
      },
      "execution_count": null,
      "outputs": [
        {
          "output_type": "execute_result",
          "data": {
            "text/plain": [
              "0.8820813907089905"
            ]
          },
          "metadata": {},
          "execution_count": 187
        }
      ]
    },
    {
      "cell_type": "code",
      "source": [],
      "metadata": {
        "id": "Qg7BqUJnUqU_"
      },
      "execution_count": null,
      "outputs": []
    },
    {
      "cell_type": "code",
      "source": [],
      "metadata": {
        "id": "-exOp9urUqkX"
      },
      "execution_count": null,
      "outputs": []
    },
    {
      "cell_type": "markdown",
      "source": [
        "## Random Processes and Monte Carlo Methods"
      ],
      "metadata": {
        "id": "hiLEk7dMj1Q6"
      }
    },
    {
      "cell_type": "code",
      "source": [
        "## Monte Carlo Integration (counting points of shaded region / total region)\n",
        "def MonteCarloIntegration(f, a, b, N = 100_000):\n",
        "  count = 0\n",
        "  for _ in range(N):\n",
        "    x = random.uniform(a,b) ## the height of y must be larger than the max of f...\n",
        "    y = random.uniform(a,b) ## as the box (a,b) x (a,b) must contain f\n",
        "    if y < f(x):\n",
        "      count += 1\n",
        "  area = (b-a)**2\n",
        "  fraction = count / N\n",
        "  return fraction * area"
      ],
      "metadata": {
        "id": "zzdiw31MGUWN"
      },
      "execution_count": null,
      "outputs": []
    },
    {
      "cell_type": "code",
      "source": [
        "def function(x):\n",
        "    return (math.sin(1/(x*(2-x))))**2\n",
        "MonteCarloIntegration(function, 0, 2)"
      ],
      "metadata": {
        "colab": {
          "base_uri": "https://localhost:8080/"
        },
        "id": "516CDZ9SUquR",
        "outputId": "52d69982-e925-4ced-ce2c-5d17e499cd54"
      },
      "execution_count": null,
      "outputs": [
        {
          "output_type": "execute_result",
          "data": {
            "text/plain": [
              "1.4586"
            ]
          },
          "metadata": {},
          "execution_count": 189
        }
      ]
    },
    {
      "cell_type": "code",
      "source": [
        "## Mean Value Method  , one dimension\n",
        "def meanValueMethod(f, a, b, N = 1_000_000, input_array = False ):\n",
        "  x = np.random.uniform(a, b, N)\n",
        "  if input_array:\n",
        "    function_values = f(x)  ## if f can take array as input\n",
        "  else:\n",
        "    function_values = np.array([f(xi) for xi in x])\n",
        "  mean_value = np.mean(function_values)\n",
        "  area = b-a\n",
        "  return area * mean_value"
      ],
      "metadata": {
        "id": "9uZpL2YHHDU6"
      },
      "execution_count": null,
      "outputs": []
    },
    {
      "cell_type": "code",
      "source": [
        "def function(x):\n",
        "    return (np.sin(1/(x*(2-x))))**2 ## np function can take array as input\n",
        "meanValueMethod(function, 0, 2, input_array = True)"
      ],
      "metadata": {
        "colab": {
          "base_uri": "https://localhost:8080/"
        },
        "id": "vLcRztNknZ_n",
        "outputId": "05fcce7a-f629-4c07-f15d-1c88370675bd"
      },
      "execution_count": null,
      "outputs": [
        {
          "output_type": "execute_result",
          "data": {
            "text/plain": [
              "1.451636407782979"
            ]
          },
          "metadata": {},
          "execution_count": 191
        }
      ]
    },
    {
      "cell_type": "code",
      "source": [
        "## math function cannot take array as input\n",
        "meanValueMethod(lambda x: math.exp(-x **2), 0, 2)"
      ],
      "metadata": {
        "colab": {
          "base_uri": "https://localhost:8080/"
        },
        "id": "36o-JTxdC_FN",
        "outputId": "333a430e-09ca-4381-95d6-6074b48ce58a"
      },
      "execution_count": null,
      "outputs": [
        {
          "output_type": "execute_result",
          "data": {
            "text/plain": [
              "0.8815850043065577"
            ]
          },
          "metadata": {},
          "execution_count": 192
        }
      ]
    },
    {
      "cell_type": "code",
      "source": [
        "## two dimensions\n",
        "def meanValueMethod(f, x_span, y_span, N = 1_000_000, input_array = False):\n",
        "  x = np.random.uniform(x_span[0], x_span[1], N)\n",
        "  y = np.random.uniform(y_span[0], y_span[1], N)\n",
        "  if input_array:\n",
        "    function_values = f(x,y)  ## if f can take array as input\n",
        "  else:\n",
        "    function_values = np.array([f(x[i], y[i]) for i in range(N)])\n",
        "  volume = (x_span[1] - x_span[0]) * (y_span[1] - y_span[0])\n",
        "  mean_values = np.mean(function_values)\n",
        "  return volume * mean_values"
      ],
      "metadata": {
        "id": "q2hM_itJnaFB"
      },
      "execution_count": null,
      "outputs": []
    },
    {
      "cell_type": "code",
      "source": [
        "def function(x,y): ## disk ## note: function is uniform\n",
        "  if x ** 2 + y ** 2 <= 1:\n",
        "    return 1\n",
        "  else:\n",
        "    return 0\n",
        "meanValueMethod(function, [-1,1], [-1,1])"
      ],
      "metadata": {
        "colab": {
          "base_uri": "https://localhost:8080/"
        },
        "id": "9DoNG5jwMbcD",
        "outputId": "2dc79cb6-f6eb-4bf8-cf7b-f21df38262c4"
      },
      "execution_count": null,
      "outputs": [
        {
          "output_type": "execute_result",
          "data": {
            "text/plain": [
              "3.141052"
            ]
          },
          "metadata": {},
          "execution_count": 194
        }
      ]
    },
    {
      "cell_type": "code",
      "source": [
        "## higher dimensions\n",
        "def meanValueMethod(f, d_span, N = 1_000_000, array_input = True):\n",
        "  \"\"\"\n",
        "  f: function\n",
        "  d_span (List[List]): each input represents a dimension where each element is a list\n",
        "                of size 2 containing the lower and upper bound for that dimension\n",
        "  \"\"\"\n",
        "  d = len(d_span)\n",
        "  function_value = 0\n",
        "  if array_input:\n",
        "    for i in range(N):\n",
        "      input_vector = [random.uniform(d_span[i][0], d_span[i][1]) for i in range(d)]\n",
        "      function_value += f(input_vector)\n",
        "  else:\n",
        "    for i in range(N):\n",
        "      input_vector = [random.uniform(d_span[i][0], d_span[i][1]) for i in range(d)]\n",
        "      function_value += f(*input_vector)\n",
        "  volume = 1\n",
        "  for i in range(d):\n",
        "    volume *= (d_span[i][1] - d_span[i][0])\n",
        "  mean_value = function_value / N\n",
        "  return volume * mean_value"
      ],
      "metadata": {
        "id": "PIyz7CVgJjhj"
      },
      "execution_count": null,
      "outputs": []
    },
    {
      "cell_type": "code",
      "source": [
        "## math function cannot take array as input\n",
        "d = 1\n",
        "d_span = [[0,2] for _ in range(d)]\n",
        "meanValueMethod(lambda x: math.exp(-x **2), d_span, array_input = False)"
      ],
      "metadata": {
        "colab": {
          "base_uri": "https://localhost:8080/"
        },
        "id": "JbISBcR-THb5",
        "outputId": "783daa29-7a2d-41d0-a2e8-3521c2509794"
      },
      "execution_count": null,
      "outputs": [
        {
          "output_type": "execute_result",
          "data": {
            "text/plain": [
              "0.8826090837997942"
            ]
          },
          "metadata": {},
          "execution_count": 197
        }
      ]
    },
    {
      "cell_type": "code",
      "source": [
        "def function(x):\n",
        "    return (np.sin(1/(x*(2-x))))**2\n",
        "d = 1\n",
        "d_span = [[0,2] for _ in range(d)]\n",
        "meanValueMethod(function, d_span, array_input = False)"
      ],
      "metadata": {
        "colab": {
          "base_uri": "https://localhost:8080/"
        },
        "id": "trmxgd7CVdZh",
        "outputId": "728a5a46-f41f-43f1-ecf5-7ff6ad2d0fe2"
      },
      "execution_count": null,
      "outputs": [
        {
          "output_type": "execute_result",
          "data": {
            "text/plain": [
              "1.4509188069737697"
            ]
          },
          "metadata": {},
          "execution_count": 198
        }
      ]
    },
    {
      "cell_type": "code",
      "source": [
        "d = 2\n",
        "d_span = [[-1,1] for _ in range(d)]\n",
        "def function(input_vector): ## disk\n",
        "  input_vector = np.array(input_vector)\n",
        "  if np.sum(input_vector**2) <=1:\n",
        "    return 1\n",
        "  else:\n",
        "    return 0\n",
        "meanValueMethod(function, d_span)"
      ],
      "metadata": {
        "colab": {
          "base_uri": "https://localhost:8080/"
        },
        "id": "HY9OBuK8naKA",
        "outputId": "945e3d1c-49fa-42c6-8579-d4188abd14d8"
      },
      "execution_count": null,
      "outputs": [
        {
          "output_type": "execute_result",
          "data": {
            "text/plain": [
              "3.139128"
            ]
          },
          "metadata": {},
          "execution_count": 199
        }
      ]
    },
    {
      "cell_type": "code",
      "source": [
        "d = 10\n",
        "d_span = [[-1,1] for _ in range(d)]\n",
        "def function(input_vector): ## ball\n",
        "  input_vector = np.array(input_vector)\n",
        "  if np.sum(input_vector**2) <=1:\n",
        "    return 1\n",
        "  else:\n",
        "    return 0\n",
        "meanValueMethod(function, d_span)"
      ],
      "metadata": {
        "colab": {
          "base_uri": "https://localhost:8080/"
        },
        "id": "gyP9NYByNkuU",
        "outputId": "bce9e225-20e6-4296-b63b-4f774da15bc8"
      },
      "execution_count": null,
      "outputs": [
        {
          "output_type": "execute_result",
          "data": {
            "text/plain": [
              "2.558976"
            ]
          },
          "metadata": {},
          "execution_count": 200
        }
      ]
    },
    {
      "cell_type": "code",
      "source": [
        "def volume_of_ball(d, r):\n",
        "    volume = (math.pi ** (d / 2) * (r ** d)) / math.gamma(d / 2 + 1)\n",
        "    return volume\n",
        "\n",
        "dimension = 10\n",
        "radius = 1\n",
        "volume = volume_of_ball(dimension, radius)\n",
        "print(f'The volume of a {dimension}-dimensional ball with radius {radius} is: {volume}')"
      ],
      "metadata": {
        "colab": {
          "base_uri": "https://localhost:8080/"
        },
        "id": "wjaiRynXN30B",
        "outputId": "b5e96cb7-c3e8-4428-ba1f-a3355f232135"
      },
      "execution_count": null,
      "outputs": [
        {
          "output_type": "stream",
          "name": "stdout",
          "text": [
            "The volume of a 10-dimensional ball with radius 1 is: 2.550164039877345\n"
          ]
        }
      ]
    },
    {
      "cell_type": "code",
      "source": [],
      "metadata": {
        "id": "yq0LBi6Q-qG8"
      },
      "execution_count": null,
      "outputs": []
    },
    {
      "cell_type": "code",
      "source": [],
      "metadata": {
        "id": "KYG7gQf5-qMG"
      },
      "execution_count": null,
      "outputs": []
    },
    {
      "cell_type": "markdown",
      "source": [
        "## Numerical Solution to ODEs"
      ],
      "metadata": {
        "id": "MC8ZGjd8Fav1"
      }
    },
    {
      "cell_type": "markdown",
      "source": [
        "Initial Value Problem (IVP)\n",
        "\n",
        "$$\n",
        "\\begin{cases}\n",
        "x'(t) = f(t,x(t)) \\\\\n",
        "x(t_0) = x_0\n",
        "\\end{cases}\n",
        "$$"
      ],
      "metadata": {
        "id": "BL7qPo8iegQ3"
      }
    },
    {
      "cell_type": "markdown",
      "source": [
        "### Single-Step Methods"
      ],
      "metadata": {
        "id": "5Ihe_muSXH9l"
      }
    },
    {
      "cell_type": "code",
      "source": [
        "## Euler's method (special case of Taylor's Series)\n",
        "def EulerMethod(f, x0, t0, t1, N = 1000):\n",
        "  h = (t1-t0) / N\n",
        "  tpoints = np.arange(t0,t1,h)\n",
        "  xpoints = np.ones((N,1))\n",
        "  x = x0\n",
        "  for i, t in enumerate(tpoints):\n",
        "    xpoints[i] = x\n",
        "    x += h * f(t,x)\n",
        "  return tpoints, xpoints"
      ],
      "metadata": {
        "id": "lmHANTcvHD-V"
      },
      "execution_count": null,
      "outputs": []
    },
    {
      "cell_type": "code",
      "source": [
        "def f(t,x):\n",
        "    return -x**3 + np.sin(t)\n",
        "\n",
        "tpoints, xpoints = EulerMethod(f, 0, 0, 10)\n",
        "plt.plot(tpoints,xpoints)\n",
        "plt.xlabel(\"t\")\n",
        "plt.ylabel(\"x(t)\")\n",
        "plt.show()"
      ],
      "metadata": {
        "id": "o5nwtgqoHEB4",
        "colab": {
          "base_uri": "https://localhost:8080/",
          "height": 449
        },
        "outputId": "e4962777-4099-4f9c-83ad-9b2d69ace17c"
      },
      "execution_count": null,
      "outputs": [
        {
          "output_type": "display_data",
          "data": {
            "text/plain": [
              "<Figure size 640x480 with 1 Axes>"
            ],
            "image/png": "[encoded data removed]"
          },
          "metadata": {}
        }
      ]
    },
    {
      "cell_type": "code",
      "source": [
        "## Rugga Kutta (explicit)\n",
        "def RKexplicit(f, x0, t0, t1, A, b, c, N = 100):\n",
        "  h = (t1-t0) / N\n",
        "  tpoints = np.arange(t0,t1,h)\n",
        "  xpoints = np.ones((N,1))\n",
        "  xn = x0\n",
        "  s = A.shape[0]\n",
        "  k = np.zeros((s,1))\n",
        "  for n, tn in enumerate(tpoints):\n",
        "    xpoints[n] = xn\n",
        "    k[0] = f(tn, xn)\n",
        "    for i in range(s):\n",
        "      k[i] = f(tn + c[i]*h, xn + h * A[i, 0:i].dot(k[0:i]))\n",
        "    xn += h * b.dot(k)\n",
        "  return tpoints, xpoints"
      ],
      "metadata": {
        "id": "IH7DlbYwHEGN"
      },
      "execution_count": null,
      "outputs": []
    },
    {
      "cell_type": "code",
      "source": [
        "def f(t,x):\n",
        "    return -x**3 + np.sin(t)\n",
        "\n",
        "x0 = 0\n",
        "t0 = 0\n",
        "t1 = 10\n",
        "## classical 4th order RK\n",
        "A = np.eye(4, k = -1)\n",
        "A[1,0] = 1/2\n",
        "A[2,1] = 1/2\n",
        "b = np.array([1/6, 1/3, 1/3, 1/6])\n",
        "c = np.array([0, 0.5, 0.5, 1]).reshape(-1,1)\n",
        "print(A)\n",
        "print(b)\n",
        "print(c)"
      ],
      "metadata": {
        "id": "BmXSBNtRHEKI",
        "colab": {
          "base_uri": "https://localhost:8080/"
        },
        "outputId": "bf45dd1f-ce57-4bf0-821f-61e748c9e3bd"
      },
      "execution_count": null,
      "outputs": [
        {
          "output_type": "stream",
          "name": "stdout",
          "text": [
            "[[0.  0.  0.  0. ]\n",
            " [0.5 0.  0.  0. ]\n",
            " [0.  0.5 0.  0. ]\n",
            " [0.  0.  1.  0. ]]\n",
            "[0.16666667 0.33333333 0.33333333 0.16666667]\n",
            "[[0. ]\n",
            " [0.5]\n",
            " [0.5]\n",
            " [1. ]]\n"
          ]
        }
      ]
    },
    {
      "cell_type": "code",
      "source": [
        "tpoints, xpoints = RKexplicit(f, x0, t0, t1, A, b, c)\n",
        "plt.plot(tpoints,xpoints)\n",
        "plt.xlabel(\"t\")\n",
        "plt.ylabel(\"x(t)\")\n",
        "plt.show()"
      ],
      "metadata": {
        "id": "XUxnZ1MuHEO1",
        "colab": {
          "base_uri": "https://localhost:8080/",
          "height": 449
        },
        "outputId": "cfbd48dd-73a7-4283-ddb6-364a4ac21a46"
      },
      "execution_count": null,
      "outputs": [
        {
          "output_type": "display_data",
          "data": {
            "text/plain": [
              "<Figure size 640x480 with 1 Axes>"
            ],
            "image/png": "[encoded data removed]"
          },
          "metadata": {}
        }
      ]
    },
    {
      "cell_type": "code",
      "source": [
        "## Rugga Kutta (embedded/adaptive)\n",
        "def RKembedded(f, x0, t0, t1, A, b, c, b_low, N = 100):\n",
        "  h = (t1-t0) / N\n",
        "  tpoints = np.arange(t0,t1,h)\n",
        "  xpoints = np.ones((N,1))\n",
        "  err = np.ones_like(xpoints)\n",
        "  xn = x0\n",
        "  s = A.shape[0]\n",
        "  k = np.zeros((s,1))\n",
        "  for n, tn in enumerate(tpoints):\n",
        "    xpoints[n] = xn\n",
        "    k[0] = f(tn, xn)\n",
        "    for i in range(s):\n",
        "      k[i] = f(tn + c[i]*h, xn + h * A[i, 0:i].dot(k[0:i]))\n",
        "    xn_low = xn + h * b_low.dot(k)\n",
        "    xn = xn + h * b.dot(k)\n",
        "    err[n] = xn - xn_low\n",
        "  return tpoints, xpoints, err"
      ],
      "metadata": {
        "id": "x28tkXmKHET1"
      },
      "execution_count": null,
      "outputs": []
    },
    {
      "cell_type": "code",
      "source": [
        "def f(t,x):\n",
        "    return -x**3 + np.sin(t)\n",
        "\n",
        "x0 = 0\n",
        "t0 = 0\n",
        "t1 = 10\n",
        "## Fehlberg RK1(2)\n",
        "A = np.zeros((3,3))\n",
        "A[1,0] = 1/2\n",
        "A[2,0:2] = [1/256, 255/256]\n",
        "b = np.array([1/512, 255/256, 1/512])\n",
        "b_low = np.array([1/256, 255/256, 0])\n",
        "c = np.array([0, 0.5, 1]).reshape(-1,1)\n",
        "print(A)\n",
        "print(b)\n",
        "print(b_low)\n",
        "print(c)"
      ],
      "metadata": {
        "id": "p-xT9--QHEkL",
        "colab": {
          "base_uri": "https://localhost:8080/"
        },
        "outputId": "21a6dcc2-09a0-461f-c400-069cdef96bd0"
      },
      "execution_count": null,
      "outputs": [
        {
          "output_type": "stream",
          "name": "stdout",
          "text": [
            "[[0.         0.         0.        ]\n",
            " [0.5        0.         0.        ]\n",
            " [0.00390625 0.99609375 0.        ]]\n",
            "[0.00195312 0.99609375 0.00195312]\n",
            "[0.00390625 0.99609375 0.        ]\n",
            "[[0. ]\n",
            " [0.5]\n",
            " [1. ]]\n"
          ]
        }
      ]
    },
    {
      "cell_type": "code",
      "source": [
        "tpoints, xpoints, err = RKembedded(f, x0, t0, t1, A, b, c, b_low)\n",
        "plt.plot(tpoints,xpoints)\n",
        "plt.xlabel(\"t\")\n",
        "plt.ylabel(\"x(t)\")\n",
        "plt.title('Solution x(t)')\n",
        "plt.show()\n",
        "plt.plot(tpoints, err)\n",
        "plt.xlabel(\"t\")\n",
        "plt.ylabel(\"err = x(t) - x*(t)\")\n",
        "plt.title('Error between higher and lower order')\n",
        "plt.show()"
      ],
      "metadata": {
        "colab": {
          "base_uri": "https://localhost:8080/",
          "height": 927
        },
        "id": "5i-b4is5pOpa",
        "outputId": "f5bfaf3b-c102-4c10-e435-8cabeecd8611"
      },
      "execution_count": null,
      "outputs": [
        {
          "output_type": "display_data",
          "data": {
            "text/plain": [
              "<Figure size 640x480 with 1 Axes>"
            ],
            "image/png": "[encoded data removed]"
          },
          "metadata": {}
        },
        {
          "output_type": "display_data",
          "data": {
            "text/plain": [
              "<Figure size 640x480 with 1 Axes>"
            ],
            "image/png": "[encoded data removed]"
          },
          "metadata": {}
        }
      ]
    },
    {
      "cell_type": "code",
      "source": [
        "def f(t,x):\n",
        "    return -x**3 + np.sin(t)\n",
        "\n",
        "x0 = 0\n",
        "t0 = 0\n",
        "t1 = 10\n",
        "## Fehlberg RK45\n",
        "A = np.zeros((6,6))\n",
        "A[1,0] = 1/4\n",
        "A[2,0:2] =  [3/32, 9/32]\n",
        "A[3,0:3] = [1932/2197,-7200/2197,7296/2197]\n",
        "A[4, 0:4] = [439/216,-8,3680/513,-845/4104]\n",
        "A[5, 0:5] = [-8/27,2,-3544/2565,1859/4104,-11/40]\n",
        "b = np.array([16/135,0,6656/12825,28561/56430,-9/50,2/55])\n",
        "b_low = np.array([25/216,0,1408/2565,2197/4104,-1/5,0])\n",
        "c = np.array([0, 1/4, 3/8, 12/13,1,1/2]).reshape(-1,1)\n",
        "print(A)\n",
        "print(b)\n",
        "print(b_low)\n",
        "print(c)"
      ],
      "metadata": {
        "colab": {
          "base_uri": "https://localhost:8080/"
        },
        "id": "t6SsAmfqpOuX",
        "outputId": "e6eba73c-cd22-4c26-b665-92298222163d"
      },
      "execution_count": null,
      "outputs": [
        {
          "output_type": "stream",
          "name": "stdout",
          "text": [
            "[[ 0.          0.          0.          0.          0.          0.        ]\n",
            " [ 0.25        0.          0.          0.          0.          0.        ]\n",
            " [ 0.09375     0.28125     0.          0.          0.          0.        ]\n",
            " [ 0.87938097 -3.27719618  3.32089213  0.          0.          0.        ]\n",
            " [ 2.03240741 -8.          7.17348928 -0.20589669  0.          0.        ]\n",
            " [-0.2962963   2.         -1.38167641  0.45297271 -0.275       0.        ]]\n",
            "[ 0.11851852  0.          0.51898635  0.50613149 -0.18        0.03636364]\n",
            "[ 0.11574074  0.          0.54892788  0.53533138 -0.2         0.        ]\n",
            "[[0.        ]\n",
            " [0.25      ]\n",
            " [0.375     ]\n",
            " [0.92307692]\n",
            " [1.        ]\n",
            " [0.5       ]]\n"
          ]
        }
      ]
    },
    {
      "cell_type": "code",
      "source": [
        "tpoints, xpoints, err = RKembedded(f, x0, t0, t1, A, b, c, b_low)\n",
        "plt.plot(tpoints,xpoints)\n",
        "plt.xlabel(\"t\")\n",
        "plt.ylabel(\"x(t)\")\n",
        "plt.title('Solution x(t)')\n",
        "plt.show()\n",
        "plt.plot(tpoints, err)\n",
        "plt.xlabel(\"t\")\n",
        "plt.ylabel(\"err = x(t) - x*(t)\")\n",
        "plt.title('Error between higher and lower order')\n",
        "plt.show()"
      ],
      "metadata": {
        "colab": {
          "base_uri": "https://localhost:8080/",
          "height": 927
        },
        "id": "DoPW5JippOzb",
        "outputId": "bfb071c0-a3a8-44d6-cb65-d380d3389253"
      },
      "execution_count": null,
      "outputs": [
        {
          "output_type": "display_data",
          "data": {
            "text/plain": [
              "<Figure size 640x480 with 1 Axes>"
            ],
            "image/png": "[encoded data removed]"
          },
          "metadata": {}
        },
        {
          "output_type": "display_data",
          "data": {
            "text/plain": [
              "<Figure size 640x480 with 1 Axes>"
            ],
            "image/png": "[encoded data removed]"
          },
          "metadata": {}
        }
      ]
    },
    {
      "cell_type": "code",
      "source": [
        "def f(t,x):\n",
        "    return -x**3 + np.sin(t)\n",
        "x0 = 0\n",
        "t0 = 0\n",
        "t1 = 10\n",
        "N = 100\n",
        "tspan = [t0, t1]\n",
        "t_eval = np.linspace(t0, t1, N)\n",
        "# sol = scipy.integrate.solve_ivp(f, tspan, [x0], method = 'RK45')\n",
        "sol = scipy.integrate.solve_ivp(f, tspan, [x0], method = 'RK45', t_eval = t_eval)\n",
        "tpoints = sol.t\n",
        "xpoints = sol.y[0]"
      ],
      "metadata": {
        "id": "NbKTwgz4pO4g"
      },
      "execution_count": null,
      "outputs": []
    },
    {
      "cell_type": "code",
      "source": [
        "plt.plot(tpoints,xpoints)\n",
        "plt.xlabel(\"t\")\n",
        "plt.ylabel(\"x(t)\")\n",
        "plt.title('Solution x(t)')\n",
        "plt.show()"
      ],
      "metadata": {
        "colab": {
          "base_uri": "https://localhost:8080/",
          "height": 472
        },
        "id": "Redr8_UfEbyN",
        "outputId": "4086bde7-d7e6-42cb-8636-f0437cbd89cd"
      },
      "execution_count": null,
      "outputs": [
        {
          "output_type": "display_data",
          "data": {
            "text/plain": [
              "<Figure size 640x480 with 1 Axes>"
            ],
            "image/png": "[encoded data removed]"
          },
          "metadata": {}
        }
      ]
    },
    {
      "cell_type": "code",
      "source": [],
      "metadata": {
        "id": "LDUP6MyY5GAh"
      },
      "execution_count": null,
      "outputs": []
    },
    {
      "cell_type": "code",
      "source": [],
      "metadata": {
        "id": "hami0bGD5GFu"
      },
      "execution_count": null,
      "outputs": []
    },
    {
      "cell_type": "markdown",
      "source": [
        "### Multi-Step Methods"
      ],
      "metadata": {
        "id": "zJztW-RMGU7g"
      }
    },
    {
      "cell_type": "code",
      "source": [
        "## Adams Bashforth 5th order\n",
        "def AdamsBashforth(f, x0, t0, t1, b, N = 100):\n",
        "  h = (t1-t0) / N\n",
        "  tpoints = np.arange(t0,t1,h)\n",
        "  xpoints = np.ones((N,1))\n",
        "  xn = x0\n",
        "  s = b.size\n",
        "  f_values = np.ones((N,1))\n",
        "  xpoints[0] = xn\n",
        "  f_values[0] = f(t0, xn)\n",
        "  for i in range(1, s): ## to get initial values\n",
        "    sol = scipy.integrate.solve_ivp(f, [tpoints[i-1], tpoints[i]], xpoints[i-1], method = 'RK45')\n",
        "    xn += sol.y[0][-1]\n",
        "    # t_temp, x_temp = EulerMethod(f, xpoints[i-1], tpoints[i-1], tpoints[i], N-1)\n",
        "    # xn +=  x_temp[-1]\n",
        "    xpoints[i] = xn\n",
        "    # f_values[i] = f(t0 + i*h, xn)\n",
        "    f_values[i] = f(tpoints[i], xn)\n",
        "  b_inv = b[::-1]\n",
        "  for i in range(s, N):\n",
        "    xn += h * b_inv.dot(f_values[i-5:i])\n",
        "    xpoints[i] = xn\n",
        "    f_values[i] = f(tpoints[i], xn)\n",
        "  return tpoints, xpoints"
      ],
      "metadata": {
        "id": "zDCwjEFjpPFV"
      },
      "execution_count": null,
      "outputs": []
    },
    {
      "cell_type": "code",
      "source": [
        "def f(t,x):\n",
        "    return -x**3 + np.sin(t)\n",
        "\n",
        "x0 = 0\n",
        "t0 = 0\n",
        "t1 = 10\n",
        "b = np.array([1901, -2774, 2616, -1274, 251])/720\n",
        "print(b)"
      ],
      "metadata": {
        "colab": {
          "base_uri": "https://localhost:8080/"
        },
        "id": "xy9POPaDGv1-",
        "outputId": "ff108e58-f901-4a44-ae62-8625b74edf52"
      },
      "execution_count": null,
      "outputs": [
        {
          "output_type": "stream",
          "name": "stdout",
          "text": [
            "[ 2.64027778 -3.85277778  3.63333333 -1.76944444  0.34861111]\n"
          ]
        }
      ]
    },
    {
      "cell_type": "code",
      "source": [
        "tpoints, xpoints = AdamsBashforth(f, x0, t0, t1, b)\n",
        "plt.plot(tpoints,xpoints)\n",
        "plt.xlabel(\"t\")\n",
        "plt.ylabel(\"x(t)\")\n",
        "plt.title('Solution x(t)')\n",
        "plt.show()"
      ],
      "metadata": {
        "colab": {
          "base_uri": "https://localhost:8080/",
          "height": 472
        },
        "id": "lybj4tjaGv8P",
        "outputId": "d0c33552-3549-46fa-da3b-8a96eb940f80"
      },
      "execution_count": null,
      "outputs": [
        {
          "output_type": "display_data",
          "data": {
            "text/plain": [
              "<Figure size 640x480 with 1 Axes>"
            ],
            "image/png": "[encoded data removed]"
          },
          "metadata": {}
        }
      ]
    },
    {
      "cell_type": "code",
      "source": [
        "## Adams Bashforth (order 2)\n",
        "def AdamsBashforth2(f, x0, t0, t1, b, N = 100):\n",
        "  h = (t1-t0) / N\n",
        "  tpoints = np.arange(t0,t1,h)\n",
        "  xpoints = np.ones((N,1))\n",
        "  xn = x0\n",
        "  s = b.size\n",
        "  xpoints[0] = xn\n",
        "  fn = f(tpoints[0], xn)\n",
        "  xn += h * fn ## Euler method to get next value to start AB order 2\n",
        "  xpoints[1] = xn\n",
        "  for i in range(2, N):\n",
        "    fn1 = f(tpoints[i-1], xn)\n",
        "    xn += h*(b[0]*fn1 + b[1]*fn)\n",
        "    xpoints[i] = xn\n",
        "    fn = fn1\n",
        "  return tpoints, xpoints"
      ],
      "metadata": {
        "id": "EEh4pwKpGwBu"
      },
      "execution_count": null,
      "outputs": []
    },
    {
      "cell_type": "code",
      "source": [
        "def f(t,x):\n",
        "    return -x**3 + np.sin(t)\n",
        "\n",
        "x0 = 0\n",
        "t0 = 0\n",
        "t1 = 10\n",
        "b = np.array([3/2, -1/2])\n",
        "print(b)"
      ],
      "metadata": {
        "colab": {
          "base_uri": "https://localhost:8080/"
        },
        "outputId": "07a751cd-181c-4d6c-ae44-a8a032f3c6a7",
        "id": "ndbPzR_lLevA"
      },
      "execution_count": null,
      "outputs": [
        {
          "output_type": "stream",
          "name": "stdout",
          "text": [
            "[ 1.5 -0.5]\n"
          ]
        }
      ]
    },
    {
      "cell_type": "code",
      "source": [
        "tpoints, xpoints = AdamsBashforth2(f, x0, t0, t1, b)\n",
        "plt.plot(tpoints,xpoints)\n",
        "plt.xlabel(\"t\")\n",
        "plt.ylabel(\"x(t)\")\n",
        "plt.title('Solution x(t)')\n",
        "plt.show()"
      ],
      "metadata": {
        "colab": {
          "base_uri": "https://localhost:8080/",
          "height": 472
        },
        "outputId": "c235dab2-e7dc-497f-93d3-c709014bfbb6",
        "id": "92eYejeELevD"
      },
      "execution_count": null,
      "outputs": [
        {
          "output_type": "display_data",
          "data": {
            "text/plain": [
              "<Figure size 640x480 with 1 Axes>"
            ],
            "image/png": "[encoded data removed]"
          },
          "metadata": {}
        }
      ]
    },
    {
      "cell_type": "code",
      "source": [
        "## Adams Moulton (order 2) aka trapezoidal rule\n",
        "## use predictor-corrector method to calculate implicit value\n",
        "def AdamsMoulton2(f, x0, t0, t1, b_exp, b_imp, N = 100):\n",
        "  h = (t1-t0) / N\n",
        "  tpoints = np.arange(t0,t1,h)\n",
        "  xpoints = np.ones((N,1))\n",
        "  xn = x0\n",
        "  s = b.size\n",
        "  xpoints[0] = xn\n",
        "  fn = f(tpoints[0], xn)\n",
        "  xn += h * fn ## Euler method to get next value to start AB order 2\n",
        "  xpoints[1] = xn\n",
        "  fn1 = f(tpoints[1], xn)\n",
        "  for i in range(2, N):\n",
        "    xn_bar = xn + h*(b_exp[0]*fn1 + b_exp[1]*fn)  ## AdamsBashforth order 2\n",
        "    xn += h*(b_imp[0]*f(tpoints[i], xn_bar) + b_imp[1]*fn1)  ## AdamsMoulton ord 2\n",
        "    xpoints[i] = xn\n",
        "    fn = fn1\n",
        "    fn1 = f(tpoints[i], xn)\n",
        "  return tpoints, xpoints"
      ],
      "metadata": {
        "id": "KCgNJbEWGwHP"
      },
      "execution_count": null,
      "outputs": []
    },
    {
      "cell_type": "code",
      "source": [
        "def f(t,x):\n",
        "    return -x**3 + np.sin(t)\n",
        "\n",
        "x0 = 0\n",
        "t0 = 0\n",
        "t1 = 10\n",
        "b_exp = np.array([3/2, -1/2])\n",
        "b_imp = np.array([1/2, 1/2])\n",
        "print(b_exp)\n",
        "print(b_imp)"
      ],
      "metadata": {
        "colab": {
          "base_uri": "https://localhost:8080/"
        },
        "outputId": "295e5998-cbb7-47e6-f112-51ed55837803",
        "id": "uHjrnWLbTIXB"
      },
      "execution_count": null,
      "outputs": [
        {
          "output_type": "stream",
          "name": "stdout",
          "text": [
            "[ 1.5 -0.5]\n",
            "[0.5 0.5]\n"
          ]
        }
      ]
    },
    {
      "cell_type": "code",
      "source": [
        "tpoints, xpoints = AdamsMoulton2(f, x0, t0, t1, b_exp, b_imp)\n",
        "plt.plot(tpoints,xpoints)\n",
        "plt.xlabel(\"t\")\n",
        "plt.ylabel(\"x(t)\")\n",
        "plt.title('Solution x(t)')\n",
        "plt.show()"
      ],
      "metadata": {
        "colab": {
          "base_uri": "https://localhost:8080/",
          "height": 472
        },
        "outputId": "db583027-1eab-46b0-e6b0-b9c8c139843e",
        "id": "HhnLNf4aTIXP"
      },
      "execution_count": null,
      "outputs": [
        {
          "output_type": "display_data",
          "data": {
            "text/plain": [
              "<Figure size 640x480 with 1 Axes>"
            ],
            "image/png": "[encoded data removed]"
          },
          "metadata": {}
        }
      ]
    },
    {
      "cell_type": "code",
      "source": [
        "## Backwards Differentiation Formula: BDF (order 2)\n",
        "## use predictor-corrector method to calculate implicit value\n",
        "def BDF2(f, x0, t0, t1, b_exp, a, b, N = 100):\n",
        "  h = (t1-t0) / N\n",
        "  tpoints = np.arange(t0,t1,h)\n",
        "  xpoints = np.ones((N,1))\n",
        "  xn = x0\n",
        "  xpoints[0] = xn\n",
        "  fn = f(tpoints[0], xn)\n",
        "  xn += h * fn ## Euler method to get next value to start AB order 2\n",
        "  xpoints[1] = xn\n",
        "  fn1 = f(tpoints[1], xn)\n",
        "  for i in range(2, N):\n",
        "    xn_bar = xn + h*(b_exp[0]*fn1 + b_exp[1]*fn)  ## AdamsBashforth order 2\n",
        "    xn = h*(b[0]*f(tpoints[i], xn_bar)) - a.dot(xpoints[i-2:i])  ## BDF2\n",
        "    xpoints[i] = xn\n",
        "    fn = fn1\n",
        "    fn1 = f(tpoints[i], xn)\n",
        "  return tpoints, xpoints"
      ],
      "metadata": {
        "id": "7X_eKS2cUvwK"
      },
      "execution_count": null,
      "outputs": []
    },
    {
      "cell_type": "code",
      "source": [
        "def f(t,x):\n",
        "    return -x**3 + np.sin(t)\n",
        "\n",
        "x0 = 0\n",
        "t0 = 0\n",
        "t1 = 10\n",
        "b_exp = np.array([3/2, -1/2])\n",
        "a = np.array([1/3, -4/3])\n",
        "b = np.array([2/3])\n",
        "print(b_exp)\n",
        "print(a)\n",
        "print(b)"
      ],
      "metadata": {
        "colab": {
          "base_uri": "https://localhost:8080/"
        },
        "outputId": "fec5c1ae-93c4-4214-9995-c5db333b6b30",
        "id": "wxNH1WdjUvwv"
      },
      "execution_count": null,
      "outputs": [
        {
          "output_type": "stream",
          "name": "stdout",
          "text": [
            "[ 1.5 -0.5]\n",
            "[ 0.33333333 -1.33333333]\n",
            "[0.66666667]\n"
          ]
        }
      ]
    },
    {
      "cell_type": "code",
      "source": [
        "tpoints, xpoints = BDF2(f, x0, t0, t1, b_exp, a,b)\n",
        "plt.plot(tpoints,xpoints)\n",
        "plt.xlabel(\"t\")\n",
        "plt.ylabel(\"x(t)\")\n",
        "plt.title('Solution x(t)')\n",
        "plt.show()"
      ],
      "metadata": {
        "colab": {
          "base_uri": "https://localhost:8080/",
          "height": 472
        },
        "outputId": "333f4430-d53e-4ad7-af2a-df4c895b1031",
        "id": "dwlfzcYLUvwv"
      },
      "execution_count": null,
      "outputs": [
        {
          "output_type": "display_data",
          "data": {
            "text/plain": [
              "<Figure size 640x480 with 1 Axes>"
            ],
            "image/png": "[encoded data removed]"
          },
          "metadata": {}
        }
      ]
    },
    {
      "cell_type": "code",
      "source": [],
      "metadata": {
        "id": "ciqMcTTZGwMc"
      },
      "execution_count": null,
      "outputs": []
    },
    {
      "cell_type": "code",
      "source": [],
      "metadata": {
        "id": "x3DL9h35XsBC"
      },
      "execution_count": null,
      "outputs": []
    },
    {
      "cell_type": "markdown",
      "source": [
        "### System of ODEs"
      ],
      "metadata": {
        "id": "Y_D1i0YsXtQM"
      }
    },
    {
      "cell_type": "markdown",
      "source": [
        "$$\n",
        "\\begin{cases}\n",
        "\\sin(t) y''' + \\cos(ty) + \\sin(t^2 + y'') + (y')^3 = \\log(t) \\\\\n",
        "y(2) = 7 \\\\\n",
        "y'(2) = 3 \\\\\n",
        "y '' (2) = -4\n",
        "\\end{cases}\n",
        "$$"
      ],
      "metadata": {
        "id": "wMp4gZOCtuGT"
      }
    },
    {
      "cell_type": "markdown",
      "source": [
        "$$\n",
        "x_1 = y, x_2 = y', x_3 = y''\n",
        "$$\n",
        "$$\n",
        "\\begin{cases}\n",
        "x_1 ' = x_2 \\\\\n",
        "x_2 ' = x_3 \\\\\n",
        "x_3 ' = (\\log(t) - x_2^3 - \\sin(t^2 + x_3) - \\cos(tx_1)) / \\sin(t)\n",
        "\\end{cases}\n",
        "$$"
      ],
      "metadata": {
        "id": "KZZIz0kfuize"
      }
    },
    {
      "cell_type": "code",
      "source": [
        "def f(t, x):\n",
        "  return [x[1], x[2], (np.log(t) - x[1]**3 - np.sin(t**2 + x[2]) - np.cos(t*x[0])) / np.sin(t)]\n",
        "t0 = 2\n",
        "t1 = 2.5\n",
        "x0 = [7,3,-4]\n",
        "sol = scipy.integrate.solve_ivp(f, [t0, t1], x0)"
      ],
      "metadata": {
        "id": "xhNdR348XsG9"
      },
      "execution_count": null,
      "outputs": []
    },
    {
      "cell_type": "code",
      "source": [
        "sol.y.shape"
      ],
      "metadata": {
        "id": "7zqMN7ePXsSJ",
        "colab": {
          "base_uri": "https://localhost:8080/"
        },
        "outputId": "23055ed1-8e9a-4022-a2d6-ff72e2b0ba22"
      },
      "execution_count": null,
      "outputs": [
        {
          "output_type": "execute_result",
          "data": {
            "text/plain": [
              "(3, 5)"
            ]
          },
          "metadata": {},
          "execution_count": 234
        }
      ]
    },
    {
      "cell_type": "code",
      "source": [
        "tpoints = sol.t\n",
        "for i in range(sol.y.shape[0]):\n",
        "  plt.plot(tpoints, sol.y[i])\n",
        "  plt.xlabel(\"t\")\n",
        "  plt.ylabel(f\"$x_{i+1}(t)$\")\n",
        "  plt.title(f'Solution $x_{i+1}(t)$')\n",
        "  plt.show()"
      ],
      "metadata": {
        "colab": {
          "base_uri": "https://localhost:8080/",
          "height": 1000
        },
        "id": "IJ9gZ8Y1r_1O",
        "outputId": "94b4d9c0-24c3-4cde-fc0e-55b33bb274e9"
      },
      "execution_count": null,
      "outputs": [
        {
          "output_type": "display_data",
          "data": {
            "text/plain": [
              "<Figure size 640x480 with 1 Axes>"
            ],
            "image/png": "[encoded data removed]"
          },
          "metadata": {}
        },
        {
          "output_type": "display_data",
          "data": {
            "text/plain": [
              "<Figure size 640x480 with 1 Axes>"
            ],
            "image/png": "[encoded data removed]"
          },
          "metadata": {}
        },
        {
          "output_type": "display_data",
          "data": {
            "text/plain": [
              "<Figure size 640x480 with 1 Axes>"
            ],
            "image/png": "[encoded data removed]"
          },
          "metadata": {}
        }
      ]
    },
    {
      "cell_type": "code",
      "source": [],
      "metadata": {
        "id": "GeUYUDRCsACO"
      },
      "execution_count": null,
      "outputs": []
    },
    {
      "cell_type": "code",
      "source": [],
      "metadata": {
        "id": "K5zKejdZsAHT"
      },
      "execution_count": null,
      "outputs": []
    },
    {
      "cell_type": "markdown",
      "source": [
        "### Shooting Method"
      ],
      "metadata": {
        "id": "csTLq8l_XMRH"
      }
    },
    {
      "cell_type": "markdown",
      "source": [
        "We start with the boundary value problem (BVP)\n",
        "$$\n",
        "\\begin{cases}\n",
        "y ''  = f(t, y, y') \\\\\n",
        "y(t_0) = c, y(t_1) = d.\n",
        "\\end{cases}\n",
        "$$\n",
        "We convert it to the IVP\n",
        "$$\n",
        "\\begin{cases}\n",
        "y ''  = f(t, y, y') \\\\\n",
        "y(t_0) = c, y'(t_0) = s\n",
        "\\end{cases}\n",
        "$$\n",
        "where $s$ is a parameter and we denote the solution as $y(t;s)$."
      ],
      "metadata": {
        "id": "b7V2ssBQ4DzM"
      }
    },
    {
      "cell_type": "markdown",
      "source": [
        "We define $g(s) = y(t_1;s) - d$. For $s$ where $g(s) = 0$ gives $y$ the correct boundary value and therefore the solution we require.\n",
        "\n",
        "We can find the root of $g$ via Newton's method, but we need to compute $g'$. To do so, let\n",
        "$z(t;s) = \\frac{\\partial y(t;s)}{\\partial s}$. Then we have the IVP\n",
        "$$\n",
        "\\begin{cases}\n",
        "z'' = \\frac{\\partial f}{\\partial y} z  + \\frac{\\partial f}{\\partial y'} z' \\\\\n",
        "z(t_0;s) = 0, z'(t_0;s) = 1.\n",
        "\\end{cases}\n",
        "$$\n",
        "Thus, $g'(s) = z(t_1;s)$."
      ],
      "metadata": {
        "id": "W1uKmghG5N9O"
      }
    },
    {
      "cell_type": "code",
      "source": [],
      "metadata": {
        "id": "l2AlE_prsAN1"
      },
      "execution_count": null,
      "outputs": []
    },
    {
      "cell_type": "code",
      "source": [
        "# def f(t,y):\n",
        "#   return [y[1], 2*y[0]**3 - 6*y[0] - 2*t**3, y[3], (6*y[0] - 6)*y[2]]\n",
        "# t0 = 1\n",
        "# t1 = 2\n",
        "# s = 1/10 ## guess to initiate\n",
        "# c, d = 2, 5/2\n",
        "# tspan = [t0, t1]\n",
        "# bspan = [c,d]\n",
        "# y0 = [bspan[0], s, 0 , 1]"
      ],
      "metadata": {
        "id": "eCQCXqjaXsjY"
      },
      "execution_count": null,
      "outputs": []
    },
    {
      "cell_type": "markdown",
      "source": [
        "$$\n",
        "\\begin{cases}\n",
        "y ''  = y' + y \\\\\n",
        "y(0) = 0, y(1) = 2.\n",
        "\\end{cases}\n",
        "$$"
      ],
      "metadata": {
        "id": "KG75a0OMNVJ0"
      }
    },
    {
      "cell_type": "code",
      "source": [
        "def f(t,y):\n",
        "  return [y[1], y[0] + y[1], y[3], y[2] + y[3]]\n",
        "t0 = 0\n",
        "t1 = 1\n",
        "s = 2   ## guess to initiate\n",
        "c, d = 0, 2\n",
        "tspan = [t0, t1]\n",
        "bspan = [c,d]\n",
        "y0 = [bspan[0], s, 0 , 1]"
      ],
      "metadata": {
        "id": "l1egxfP5EwAt"
      },
      "execution_count": null,
      "outputs": []
    },
    {
      "cell_type": "code",
      "source": [
        "def shootingMethod(f, tspan, bspan, s, M_iters = 10, tol = 10 ** -5):\n",
        "  for _ in range(M_iters):\n",
        "    y0 = [bspan[0], s, 0 , 1]\n",
        "    sol = scipy.integrate.solve_ivp(f, tspan, y0)\n",
        "    s_prev = s\n",
        "    s = s - (sol.y[0][-1] - bspan[1]) / sol.y[2][-1]  ## Netwon Method\n",
        "    if abs(s - s_prev) < tol or abs(sol.y[0][-1] - bspan[1]) < tol:\n",
        "      return sol\n",
        "  # return sol\n",
        "  raise Exception('Method Failed: Reach Max Iteration Value')"
      ],
      "metadata": {
        "id": "UMpQmljDGwRR"
      },
      "execution_count": null,
      "outputs": []
    },
    {
      "cell_type": "code",
      "source": [
        "sol = shootingMethod(f, tspan, bspan, s)"
      ],
      "metadata": {
        "id": "AhkWIbQ9GwWW"
      },
      "execution_count": null,
      "outputs": []
    },
    {
      "cell_type": "code",
      "source": [
        "tpoints = sol.t\n",
        "# for i in range(sol.y.shape[0]):\n",
        "#   plt.plot(tpoints, sol.y[i])\n",
        "#   plt.xlabel(\"t\")\n",
        "#   plt.ylabel(f\"$x_{i+1}(t)$\")\n",
        "#   plt.title(f'Solution $x_{i+1}(t)$')\n",
        "#   plt.show()\n",
        "i = 0\n",
        "plt.plot(tpoints, sol.y[i])\n",
        "plt.xlabel(\"t\")\n",
        "plt.ylabel(f\"$x_{i+1}(t)$\")\n",
        "plt.title(f'Solution $x_{i+1}(t)$')\n",
        "plt.show()"
      ],
      "metadata": {
        "id": "wY4Kw_-3Gwcj",
        "colab": {
          "base_uri": "https://localhost:8080/",
          "height": 474
        },
        "outputId": "c6896ba4-44f0-47a2-a6ed-22a44de73753"
      },
      "execution_count": null,
      "outputs": [
        {
          "output_type": "display_data",
          "data": {
            "text/plain": [
              "<Figure size 640x480 with 1 Axes>"
            ],
            "image/png": "[encoded data removed]"
          },
          "metadata": {}
        }
      ]
    },
    {
      "cell_type": "code",
      "source": [
        "# scipy.integrate.solve_bvp()"
      ],
      "metadata": {
        "id": "O8RlezfiF4K7"
      },
      "execution_count": null,
      "outputs": []
    },
    {
      "cell_type": "code",
      "source": [],
      "metadata": {
        "id": "LgJuu_wKHEoa"
      },
      "execution_count": null,
      "outputs": []
    },
    {
      "cell_type": "markdown",
      "source": [
        "### Finite Difference Method"
      ],
      "metadata": {
        "id": "o7sWBGFWYElN"
      }
    },
    {
      "cell_type": "markdown",
      "source": [
        "Consider the BVP\n",
        "$$\n",
        "\\begin{cases}\n",
        "y ''  = -4y + 4t \\\\\n",
        "y(0) = 0, y'(\\pi / 2) = 0.\n",
        "\\end{cases}\n",
        "$$\n",
        "We use the symmetric difference $y'' =  (y_{i+1} - 2y_{i} + y_{i-1}) / h^2$\n",
        "and the central difference $y ' = (y_{i+1} - y_{i-1}) / (2h)$ to derive a matrix equation solve it."
      ],
      "metadata": {
        "id": "Jd9GrpmUghf3"
      }
    },
    {
      "cell_type": "markdown",
      "source": [
        "We obtain the following equations:\n",
        "$$\n",
        "\\begin{cases}\n",
        "y_0 = 0 \\\\\n",
        "y_{i-1} + (4h^2 - 2)y_i + y_{i+1} = 4h^2 t_i  \n",
        "\\quad i = 1, \\ldots, n \\\\\n",
        "y_{n-1} = y_{n+1}.\n",
        "\\end{cases}\n",
        "$$"
      ],
      "metadata": {
        "id": "k15fj4oUiRDQ"
      }
    },
    {
      "cell_type": "markdown",
      "source": [
        "Combining the second and third equations for $i = n$,\n",
        "$$\n",
        "\\begin{cases}\n",
        "y_0 = 0 \\\\\n",
        "y_{i-1} + (4h^2 - 2)y_i + y_{i+1} = 4h^2 t_i  \n",
        "\\quad i = 1, \\ldots, n-1 \\\\\n",
        "2y_{n-1} + (4h^2 - 2)y_n  = 4h^2 t_n .\n",
        "\\end{cases}\n",
        "$$"
      ],
      "metadata": {
        "id": "mhaMmD2hmGhU"
      }
    },
    {
      "cell_type": "code",
      "source": [
        "def finiteDifferenceMethod(t0, t1, N = 100):\n",
        "  h = (t1 - t0) / N\n",
        "  tpoints = np.arange(t0, t1, h)\n",
        "  # A = np.zeros((N,N))\n",
        "  # A[0,0] = 1\n",
        "  # for i in range(1, n-1):\n",
        "  #   A[i, i-1] = 1\n",
        "  #   A[i, i] = 4 * h**2 - 2\n",
        "  #   A[i, i+1] = 1\n",
        "  # A[n-1, n-2] = 2\n",
        "  # A[n-1, n-1] = 4 * h**2 - 2\n",
        "  A = np.eye(N, k = 0) * (4 * h**2 - 2) + np.eye(N, k = -1) + np.eye(N, k = 1)\n",
        "  A[-1, -2] = 2\n",
        "  b = tpoints * 4 * h**2\n",
        "  ypoints = np.linalg.solve(A, b)\n",
        "  return tpoints, ypoints"
      ],
      "metadata": {
        "id": "TfIQGMp1XakJ"
      },
      "execution_count": null,
      "outputs": []
    },
    {
      "cell_type": "code",
      "source": [
        "t0, t1 = 0, np.pi / 2\n",
        "tpoints, xpoints = finiteDifferenceMethod(t0, t1)\n",
        "plt.plot(tpoints,xpoints)\n",
        "plt.xlabel(\"t\")\n",
        "plt.ylabel(\"x(t)\")\n",
        "plt.title('Solution x(t)')\n",
        "plt.show()"
      ],
      "metadata": {
        "id": "cx35vio3XaqR",
        "colab": {
          "base_uri": "https://localhost:8080/",
          "height": 472
        },
        "outputId": "831f17d0-c287-46ba-f2c1-086824bcec81"
      },
      "execution_count": null,
      "outputs": [
        {
          "output_type": "display_data",
          "data": {
            "text/plain": [
              "<Figure size 640x480 with 1 Axes>"
            ],
            "image/png": "[encoded data removed]"
          },
          "metadata": {}
        }
      ]
    },
    {
      "cell_type": "code",
      "source": [],
      "metadata": {
        "id": "t8dqE8sIXavw"
      },
      "execution_count": null,
      "outputs": []
    },
    {
      "cell_type": "code",
      "source": [],
      "metadata": {
        "id": "UV7t7RPgXa1z"
      },
      "execution_count": null,
      "outputs": []
    },
    {
      "cell_type": "markdown",
      "source": [
        "## Numerical Solution to PDEs"
      ],
      "metadata": {
        "id": "inPfv3TaFfqp"
      }
    },
    {
      "cell_type": "markdown",
      "source": [
        "### Parabolic PDEs"
      ],
      "metadata": {
        "id": "gIjVqaTF3Bmi"
      }
    },
    {
      "cell_type": "markdown",
      "source": [
        "Observe the heat equation:\n",
        "$$\n",
        "\\begin{cases}\n",
        "u_{xx} = u_t, \\quad t \\geq 0, 0 \\leq x \\leq 1, \\\\\n",
        "u(x,0) = g(x), \\\\\n",
        "u(0, t) = a(t), \\\\\n",
        "u(1,t) = b(t).\n",
        "\\end{cases}\n",
        "$$"
      ],
      "metadata": {
        "id": "VEF2MlSP3ZdE"
      }
    },
    {
      "cell_type": "code",
      "source": [
        "## finite difference method (explicit)\n",
        "def fdePDE(g, a, b, t0 = 0, tf = 1, x0 = 0, xf = 10, Nx = 100, Nt = 1000):\n",
        "  dx = (xf - x0) / Nx\n",
        "  dt = (tf - t0) / Nt\n",
        "\n",
        "  s = dt / dx**2\n",
        "  if s > 1 / 2:\n",
        "    raise ValueError(\"The time step is too large for stability.\")\n",
        "\n",
        "  x = np.linspace(x0, xf, Nx+1)\n",
        "  w = np.sin(np.pi * x)\n",
        "  # x = np.arange(x0, xf, dx)\n",
        "  # w = np.array([np.sin(np.pi*i*dx) for i in range(Nx)])\n",
        "  v = np.zeros_like(w)\n",
        "  for j in range(Nt):\n",
        "    v[0] = a(j*dt)\n",
        "    v[-1] = b(j*dt)\n",
        "    for i in range(1, Nx):\n",
        "      v[i] =  s*w[i + 1] + (1- 2*s) * w[i] + s*w[i - 1]\n",
        "    w[:] = v[:]\n",
        "  return x, w"
      ],
      "metadata": {
        "id": "XFR7Y8vuHFkF"
      },
      "execution_count": null,
      "outputs": []
    },
    {
      "cell_type": "code",
      "source": [
        "def g(x):\n",
        "  return np.sin(np.pi * x)\n",
        "def a(t):\n",
        "  return 0\n",
        "def b(t):\n",
        "  return 0\n",
        "def f(x,t):\n",
        "  return np.exp(-np.pi**2 *t) * np.sin(np.pi*x)\n",
        "\n",
        "x0 = 0\n",
        "xf = 10\n",
        "t0 = 0\n",
        "tf = 1\n",
        "Nx = 100\n",
        "Nt = 1000\n",
        "xpoints, ypoints = fdePDE(g, a, b, t0 = t0, tf = tf, x0 = x0, xf = xf, Nx = Nx, Nt = Nt)"
      ],
      "metadata": {
        "id": "L1L7wAWCWu_c"
      },
      "execution_count": null,
      "outputs": []
    },
    {
      "cell_type": "code",
      "source": [
        "plt.plot(xpoints, ypoints, label='Approximation')\n",
        "plt.plot(xpoints, f(xpoints, 1), label = 'Solution')\n",
        "plt.xlabel('Position along the rod (x)')\n",
        "plt.ylabel('Temperature')\n",
        "plt.title(f'Heat Equation Solution at t = {tf}')\n",
        "plt.legend()\n",
        "plt.grid()\n",
        "plt.show()"
      ],
      "metadata": {
        "colab": {
          "base_uri": "https://localhost:8080/",
          "height": 472
        },
        "id": "o08fkAX1WtP1",
        "outputId": "2ee0f7a9-1cc7-4bb7-8bd3-73fbf5733210"
      },
      "execution_count": null,
      "outputs": [
        {
          "output_type": "display_data",
          "data": {
            "text/plain": [
              "<Figure size 640x480 with 1 Axes>"
            ],
            "image/png": "[encoded data removed]"
          },
          "metadata": {}
        }
      ]
    },
    {
      "cell_type": "code",
      "source": [
        "## finite difference method (implicit)\n",
        "def fdiPDE(g, a, b, t0 = 0, tf = 1, x0 = 0, xf = 10, Nx = 100, Nt = 1000):\n",
        "  dx = (xf - x0) / Nx\n",
        "  dt = (tf - t0) / Nt\n",
        "\n",
        "  s = dt / dx**2\n",
        "  if s > 1 / 2:\n",
        "      raise ValueError(\"The time step is too large for stability.\")\n",
        "\n",
        "  x = np.linspace(x0, xf, Nx+1)\n",
        "  w = np.sin(np.pi * x)\n",
        "  # x = np.arange(x0, xf, dx)\n",
        "  # w = np.array([np.sin(np.pi*i*dx) for i in range(Nx)])\n",
        "\n",
        "  A = np.eye(Nx+1, k = 0) * (1+2*s) - s* np.eye(Nx+1, k = -1) - s*np.eye(Nx+1, k = 1)\n",
        "  A[0, 0] = 1\n",
        "  A[0, 1] = 0\n",
        "  A[-1, -1] = 1\n",
        "  A[-1, -2] = 0\n",
        "  for _ in range(Nt):\n",
        "    w = np.linalg.solve(A, w)\n",
        "  return x, w"
      ],
      "metadata": {
        "id": "CpjpPnNgHFsp"
      },
      "execution_count": null,
      "outputs": []
    },
    {
      "cell_type": "code",
      "source": [
        "def g(x):\n",
        "  return np.sin(np.pi * x)\n",
        "def a(t):\n",
        "  return 0\n",
        "def b(t):\n",
        "  return 0\n",
        "def f(x,t):\n",
        "  return np.exp(-np.pi**2 *t) * np.sin(np.pi*x)\n",
        "\n",
        "\n",
        "x0 = 0\n",
        "xf = 10\n",
        "t0 = 0\n",
        "tf = 1\n",
        "Nx = 100\n",
        "Nt = 1000\n",
        "xpoints, ypoints = fdiPDE(g, a, b, t0 = t0, tf = tf, x0 = x0, xf = xf, Nx = Nx, Nt = Nt)"
      ],
      "metadata": {
        "id": "6iD1sFtubCUa"
      },
      "execution_count": null,
      "outputs": []
    },
    {
      "cell_type": "code",
      "source": [
        "plt.plot(xpoints, ypoints, label='Approximation')\n",
        "plt.plot(xpoints, f(xpoints, 1), label = 'Solution')\n",
        "plt.xlabel('Position along the rod (x)')\n",
        "plt.ylabel('Temperature')\n",
        "plt.title(f'Heat Equation Solution at t = {tf}')\n",
        "plt.legend()\n",
        "plt.grid()\n",
        "plt.show()"
      ],
      "metadata": {
        "colab": {
          "base_uri": "https://localhost:8080/",
          "height": 472
        },
        "outputId": "ffb58cca-d3ea-4a70-9cb8-537217d5983b",
        "id": "6pziq71hbCUc"
      },
      "execution_count": null,
      "outputs": [
        {
          "output_type": "display_data",
          "data": {
            "text/plain": [
              "<Figure size 640x480 with 1 Axes>"
            ],
            "image/png": "[encoded data removed]"
          },
          "metadata": {}
        }
      ]
    },
    {
      "cell_type": "code",
      "source": [],
      "metadata": {
        "id": "_NZKB0pBHFxR"
      },
      "execution_count": null,
      "outputs": []
    },
    {
      "cell_type": "code",
      "source": [],
      "metadata": {
        "id": "tLc4stJUHF2L"
      },
      "execution_count": null,
      "outputs": []
    },
    {
      "cell_type": "markdown",
      "source": [
        "## Machine Learning"
      ],
      "metadata": {
        "id": "7OmibGQcyL8H"
      }
    },
    {
      "cell_type": "markdown",
      "source": [
        "Using the sklearn module has many machine learning methods done more efficiently. See tensorflow or keras for neural networks. Below is some basic algorithms without using the modules above."
      ],
      "metadata": {
        "id": "Mt-jmLstreDu"
      }
    },
    {
      "cell_type": "code",
      "source": [
        "## Linear Regression\n",
        "## might want to add regularization later:\n",
        "## ridge (L2 norm on weights) or lasso (L1 norm on weights)\n",
        "class LinearRegression:\n",
        "    def __init__(self, method='gradient_descent', learning_rate=0.01, num_iterations=1000):\n",
        "        self.method = method\n",
        "        self.learning_rate = learning_rate\n",
        "        self.num_iterations = num_iterations\n",
        "        self.coef = None\n",
        "        self.scaler = sklearn.preprocessing.StandardScaler() ## mean 0, variance 1\n",
        "\n",
        "    def fit(self, X, y):\n",
        "        X = self.scaler.fit_transform(X)\n",
        "        X_b = np.concatenate((np.ones((X.shape[0], 1)), X), axis=1)\n",
        "\n",
        "        if self.method == 'normal_equation':\n",
        "            self.coef =  scipy.linalg.solve(X_b.T.dot(X_b), X_b.Tdot(y))\n",
        "        elif self.method == 'gradient_descent':\n",
        "            self.coef = np.zeros(X_b.shape[1])\n",
        "            for _ in range(self.num_iterations):\n",
        "                predictions = X_b.dot(self.coef)\n",
        "                errors = predictions - y\n",
        "                gradient = X_b.T.dot(errors) / y.size\n",
        "                self.coef -= self.learning_rate * gradient   # Gradient Descent\n",
        "\n",
        "    def predict(self, X):\n",
        "        X = self.scaler.transform(X)\n",
        "        X_b = np.concatenate((np.ones((X.shape[0], 1)), X), axis=1)\n",
        "        return X_b.dot(self.coef)\n",
        "\n",
        "    def mean_squared_error(self, y_true, y_pred):\n",
        "        return np.mean((y_true - y_pred) ** 2)\n"
      ],
      "metadata": {
        "id": "74Br_ZYPRHHX"
      },
      "execution_count": null,
      "outputs": []
    },
    {
      "cell_type": "code",
      "source": [
        "X = np.array([[1, 2], [2, 3], [3, 5], [4, 7], [5, 11]])\n",
        "y = np.array([2, 3, 5, 7, 11])\n",
        "\n",
        "method = 'gradient_descent'\n",
        "\n",
        "model = LinearRegression(method=method, learning_rate=0.01, num_iterations=1000)\n",
        "model.fit(X, y)\n",
        "\n",
        "y_pred = model.predict(X)\n",
        "mse = model.mean_squared_error(y, y_pred)\n",
        "print(f'Mean Squared Error: {mse}')"
      ],
      "metadata": {
        "colab": {
          "base_uri": "https://localhost:8080/"
        },
        "id": "tB8BAsCcR67k",
        "outputId": "de034010-3482-45e1-de96-e18fb6aa8a4b"
      },
      "execution_count": null,
      "outputs": [
        {
          "output_type": "stream",
          "name": "stdout",
          "text": [
            "Mean Squared Error: 0.08152941005840167\n"
          ]
        }
      ]
    },
    {
      "cell_type": "code",
      "source": [
        "## Logistic Regression\n",
        "class LogisticRegression:\n",
        "    def __init__(self, learning_rate=0.01, num_iterations=1000):\n",
        "        self.learning_rate = learning_rate\n",
        "        self.num_iterations = num_iterations\n",
        "        self.weights = None\n",
        "        self.bias = None\n",
        "        self.scaler = sklearn.preprocessing.StandardScaler() ## mean 0, variance 1\n",
        "\n",
        "    def sigmoid(self, z):\n",
        "        return 1 / (1 + np.exp(-z))\n",
        "\n",
        "    def fit(self, X, y):\n",
        "        X = self.scaler.fit_transform(X)\n",
        "        M, N = X.shape ## M is num of samples, N is num of features\n",
        "        self.weights = np.zeros(N)\n",
        "        self.bias = 0\n",
        "\n",
        "        # Gradient descent\n",
        "        for _ in range(self.num_iterations):\n",
        "            linear_model = np.dot(X, self.weights) + self.bias\n",
        "            y_predicted = self.sigmoid(linear_model)\n",
        "            dw = (1 / M) * np.dot(X.T, (y_predicted - y))\n",
        "            db = (1 / M) * np.sum(y_predicted - y)\n",
        "            self.weights -= self.learning_rate * dw\n",
        "            self.bias -= self.learning_rate * db\n",
        "\n",
        "    def predict(self, X):\n",
        "        X = self.scaler.transform(X)\n",
        "        linear_model = np.dot(X, self.weights) + self.bias\n",
        "        y_predicted = self.sigmoid(linear_model)\n",
        "        y_predicted_class = [1 if i > 0.5 else 0 for i in y_predicted]\n",
        "        return np.array(y_predicted_class)\n",
        "\n",
        "    def log_loss(self, X, y):\n",
        "        M, N = X.shape\n",
        "        y_hat  = self.sigmoid(np.dot(X, self.weights) + self.bias)\n",
        "        return -np.sum(y*np.log(y_hat)+(1-y)*np.log(1-y_hat))/ M\n",
        "\n",
        "    def accuracy(self, y_true, y_pred):\n",
        "        return np.mean(y_true == y_pred)\n"
      ],
      "metadata": {
        "id": "PjcM7y3BRHPH"
      },
      "execution_count": null,
      "outputs": []
    },
    {
      "cell_type": "code",
      "source": [
        "X = np.array([[0, 0], [1, 0], [0, 1], [1, 1]])\n",
        "y = np.array([0, 0, 0, 1])\n",
        "\n",
        "model = LogisticRegression(learning_rate=0.1, num_iterations=1000)\n",
        "model.fit(X, y)\n",
        "\n",
        "predictions = model.predict(X)\n",
        "print(\"Predictions:\", predictions)\n",
        "\n",
        "acc = model.accuracy(y, predictions)\n",
        "print(\"Accuracy:\", acc)"
      ],
      "metadata": {
        "id": "Kx4smv_jHGzR",
        "colab": {
          "base_uri": "https://localhost:8080/"
        },
        "outputId": "97d35178-2db4-4ee0-ba41-540b972e5400"
      },
      "execution_count": null,
      "outputs": [
        {
          "output_type": "stream",
          "name": "stdout",
          "text": [
            "Predictions: [0 0 0 1]\n",
            "Accuracy: 1.0\n"
          ]
        }
      ]
    },
    {
      "cell_type": "code",
      "source": [
        "## knn\n",
        "class KNN:\n",
        "    def __init__(self, k=3, norm_order = None):\n",
        "        self.k = k\n",
        "        self.norm_order = norm_order  ## matrix: frobius, vector: 2-norm\n",
        "\n",
        "    def fit(self, X, y):\n",
        "        self.X_train = X\n",
        "        self.y_train = y\n",
        "\n",
        "    def predict(self, X):\n",
        "        predictions = [self.knn_predict(x) for x in X]\n",
        "        return np.array(predictions)\n",
        "\n",
        "    def knn_predict(self, x):\n",
        "        distances = np.linalg.norm(self.X_train - x, ord = self.norm_order, axis=1)\n",
        "        k_indices = np.argsort(distances)[:self.k]\n",
        "        k_nearest_labels = [self.y_train[i] for i in k_indices]\n",
        "        label_count = dict()\n",
        "        for label in k_nearest_labels:\n",
        "          label_count[label] = label_count.get(label, 0) + 1\n",
        "\n",
        "        most_common_label = max(label_count, key=label_count.get)\n",
        "        return most_common_label\n",
        "\n",
        "    def accuracy(self, X_test, y_test):\n",
        "        predictions = self.predict(X_test)\n",
        "        accuracy = np.mean(predictions == y_test)\n",
        "        return accuracy"
      ],
      "metadata": {
        "id": "VNfTAkyaHG3y"
      },
      "execution_count": null,
      "outputs": []
    },
    {
      "cell_type": "code",
      "source": [
        "X_train = np.array([[1, 2], [2, 3], [3, 1], [6, 5], [7, 7], [8, 6]])\n",
        "y_train = np.array([0, 0, 0, 1, 1, 1])\n",
        "\n",
        "knn = KNN(k=3)\n",
        "knn.fit(X_train, y_train)\n",
        "\n",
        "X_test = np.array([[1, 1], [5, 5], [8, 5]])\n",
        "y_test = np.array([0, 1, 1])\n",
        "\n",
        "predictions = knn.predict(X_test)\n",
        "print(\"Predictions:\", predictions)\n",
        "\n",
        "accuracy = knn.accuracy(X_test, y_test)\n",
        "print(\"Accuracy:\", accuracy)"
      ],
      "metadata": {
        "id": "3aG-Day5HG8d",
        "colab": {
          "base_uri": "https://localhost:8080/"
        },
        "outputId": "3af96eb9-4a00-4bd8-c33c-aabbbdec5e50"
      },
      "execution_count": null,
      "outputs": [
        {
          "output_type": "stream",
          "name": "stdout",
          "text": [
            "Predictions: [0 1 1]\n",
            "Accuracy: 1.0\n"
          ]
        }
      ]
    },
    {
      "cell_type": "code",
      "source": [
        "## k-means\n",
        "class KMeans:\n",
        "    def __init__(self, n_clusters=3, norm_order = None, max_iter=300, tol=1e-4):\n",
        "        self.n_clusters = n_clusters\n",
        "        self.max_iter = max_iter\n",
        "        self.tol = tol\n",
        "        self.centroids = None\n",
        "        self.labels = None\n",
        "        self.norm_order = norm_order  ## matrix: frobius, vector: 2-norm\n",
        "\n",
        "    def fit(self, X):\n",
        "        random_indices = np.random.choice(X.shape[0], self.n_clusters, replace=False)\n",
        "        self.centroids = X[random_indices]\n",
        "        for i in range(self.max_iter):\n",
        "            distances = np.linalg.norm(X[:, np.newaxis] - self.centroids, ord = self.norm_order, axis=2)\n",
        "            self.labels = np.argmin(distances, axis=1)\n",
        "            new_centroids = np.array([X[self.labels == k].mean(axis=0) for k in range(self.n_clusters)])\n",
        "\n",
        "            if np.all(np.abs(new_centroids - self.centroids) < self.tol):\n",
        "                break\n",
        "            self.centroids = new_centroids\n",
        "\n",
        "    def predict(self, X):\n",
        "        distances = np.linalg.norm(X[:, np.newaxis] - self.centroids, axis=2)\n",
        "        return np.argmin(distances, axis=1)\n",
        "\n",
        "    def fit_predict(self, X):\n",
        "        self.fit(X)\n",
        "        return self.labels\n"
      ],
      "metadata": {
        "id": "Ms2BhuJnHHAs"
      },
      "execution_count": null,
      "outputs": []
    },
    {
      "cell_type": "code",
      "source": [
        "# np.random.seed(42)\n",
        "X = np.concatenate([\n",
        "    np.random.normal(loc=-2, scale=0.5, size=(100, 2)),\n",
        "    np.random.normal(loc=2, scale=0.5, size=(100, 2)),\n",
        "    np.random.normal(loc=5, scale=0.5, size=(100, 2))\n",
        "], axis = 0)\n",
        "\n",
        "\n",
        "kmeans = KMeans(n_clusters=3)\n",
        "labels = kmeans.fit_predict(X)\n",
        "\n",
        "plt.scatter(X[:, 0], X[:, 1], c=labels, cmap='viridis', marker='o', edgecolor='k')\n",
        "plt.scatter(kmeans.centroids[:, 0], kmeans.centroids[:, 1], c='red', marker='X', s=200, label='Centroids')\n",
        "plt.title('K-Means Clustering')\n",
        "plt.legend()\n",
        "plt.show()"
      ],
      "metadata": {
        "id": "n2xGsT-DHHFg",
        "colab": {
          "base_uri": "https://localhost:8080/",
          "height": 452
        },
        "outputId": "44f87a1c-cd7d-4224-fae0-650356b96385"
      },
      "execution_count": null,
      "outputs": [
        {
          "output_type": "display_data",
          "data": {
            "text/plain": [
              "<Figure size 640x480 with 1 Axes>"
            ],
            "image/png": "[encoded data removed]"
          },
          "metadata": {}
        }
      ]
    },
    {
      "cell_type": "code",
      "source": [
        "## svm (linear kernel, binary classification)\n",
        "import numpy as np\n",
        "\n",
        "class SVM:\n",
        "    def __init__(self, learning_rate=0.001, regularization_strength=1.0, num_iterations=1000):\n",
        "        self.learning_rate = learning_rate\n",
        "        self.regularization_strength = regularization_strength\n",
        "        self.num_iterations = num_iterations\n",
        "        self.W = None  ## weights\n",
        "        self.b = None  ## bias\n",
        "\n",
        "    def fit(self, X, y):\n",
        "        M, N = X.shape  ## num_samples, num_features\n",
        "        self.W = np.zeros(N)\n",
        "        self.b = 0\n",
        "\n",
        "        y = np.where(y <= 0, -1, 1)\n",
        "\n",
        "        # Gradient descent\n",
        "        for _ in range(self.num_iterations):\n",
        "            for idx, x_i in enumerate(X):\n",
        "                condition = y[idx] * (np.dot(x_i, self.W) - self.b) >= 1\n",
        "                if condition:\n",
        "                    dw = 2 * self.regularization_strength * self.W\n",
        "                    db = 0\n",
        "                else:\n",
        "                    dw = 2 * self.regularization_strength * self.W - np.dot(x_i, y[idx])\n",
        "                    db = y[idx]\n",
        "                self.W -= self.learning_rate * dw\n",
        "                self.b -= self.learning_rate * db\n",
        "\n",
        "    def predict(self, X):\n",
        "        approx = np.dot(X, self.W) - self.b\n",
        "        return np.sign(approx)\n"
      ],
      "metadata": {
        "id": "zjG0hofHHHKQ"
      },
      "execution_count": null,
      "outputs": []
    },
    {
      "cell_type": "code",
      "source": [
        "X = np.array([[1, 2], [2, 3], [3, 3], [5, 1], [6, 2], [7, 3]])\n",
        "y = np.array([1, 1, 1, -1, -1, -1])\n",
        "svm = SVM(learning_rate=0.01, regularization_strength=0.1, num_iterations=1000)\n",
        "svm.fit(X, y)\n",
        "predictions = svm.predict(X)\n",
        "print(\"Predictions:\", predictions)"
      ],
      "metadata": {
        "id": "4LhIqmZOHHN-",
        "colab": {
          "base_uri": "https://localhost:8080/"
        },
        "outputId": "9f94c793-9f33-4afe-8c0f-75db67e4dd9f"
      },
      "execution_count": null,
      "outputs": [
        {
          "output_type": "stream",
          "name": "stdout",
          "text": [
            "Predictions: [ 1.  1.  1. -1. -1. -1.]\n"
          ]
        }
      ]
    },
    {
      "cell_type": "code",
      "source": [],
      "metadata": {
        "id": "4jCjVY42EaFF"
      },
      "execution_count": null,
      "outputs": []
    },
    {
      "cell_type": "code",
      "source": [],
      "metadata": {
        "id": "fT88zlsBEaPs"
      },
      "execution_count": null,
      "outputs": []
    },
    {
      "cell_type": "code",
      "source": [],
      "metadata": {
        "id": "7QttaQ6iEaSm"
      },
      "execution_count": null,
      "outputs": []
    },
    {
      "cell_type": "markdown",
      "source": [
        "# End"
      ],
      "metadata": {
        "id": "4rgkvVEuHJmn"
      }
    },
    {
      "cell_type": "code",
      "source": [],
      "metadata": {
        "id": "ieBA5AM8EaVQ"
      },
      "execution_count": null,
      "outputs": []
    }
  ]
}